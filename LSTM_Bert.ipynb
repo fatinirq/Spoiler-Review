{
  "cells": [
    {
      "cell_type": "markdown",
      "metadata": {
        "id": "view-in-github",
        "colab_type": "text"
      },
      "source": [
        "<a href=\"https://colab.research.google.com/github/fatinirq/Spoiler-Review/blob/main/LSTM_Bert.ipynb\" target=\"_parent\"><img src=\"https://colab.research.google.com/assets/colab-badge.svg\" alt=\"Open In Colab\"/></a>"
      ]
    },
    {
      "cell_type": "code",
      "execution_count": null,
      "metadata": {
        "colab": {
          "base_uri": "https://localhost:8080/"
        },
        "id": "mpc3saAepPtz",
        "outputId": "6b7ea0c0-3a79-4aa9-c47c-abdda6c0f072"
      },
      "outputs": [
        {
          "name": "stdout",
          "output_type": "stream",
          "text": [
            "Mounted at /content/drive\n"
          ]
        }
      ],
      "source": [
        "from google.colab import drive\n",
        "drive.mount('/content/drive')"
      ]
    },
    {
      "cell_type": "code",
      "execution_count": null,
      "metadata": {
        "id": "RmIXW1SaiHH2"
      },
      "outputs": [],
      "source": [
        "import json\n",
        "import spacy\n",
        "import pandas as pd\n",
        "from torchtext.legacy import data\n",
        "from torchtext.legacy.data import TabularDataset\n",
        "from sklearn.model_selection import train_test_split\n",
        "from bertModel import BERTGRU\n",
        "import torch.nn as nn\n"
      ]
    },
    {
      "cell_type": "code",
      "execution_count": null,
      "metadata": {
        "id": "9lBWDsnlg5Z-"
      },
      "outputs": [],
      "source": [
        "pathData=\"/content/drive/My Drive/SpoilerData/GoodReads/\"\n",
        "pathResutlts=\"/content/drive/My Drive/SpoilerData/GoodReads/BertResults\"\n",
        "data = [json.loads(line) for line in open('/content/drive/MyDrive/SpoilerData/CData.json', 'r')]\n",
        "df=pd.DataFrame(data)"
      ]
    },
    {
      "cell_type": "code",
      "execution_count": null,
      "metadata": {
        "colab": {
          "base_uri": "https://localhost:8080/",
          "height": 461
        },
        "id": "V7Zl5ji-iUYZ",
        "outputId": "41fa60e1-c59a-42c9-f0a5-4a0fba9dceb4"
      },
      "outputs": [
        {
          "data": {
            "text/html": [
              "\n",
              "  <div id=\"df-ce6fe71a-7c30-4a21-9193-58d5b1c4d1c2\">\n",
              "    <div class=\"colab-df-container\">\n",
              "      <div>\n",
              "<style scoped>\n",
              "    .dataframe tbody tr th:only-of-type {\n",
              "        vertical-align: middle;\n",
              "    }\n",
              "\n",
              "    .dataframe tbody tr th {\n",
              "        vertical-align: top;\n",
              "    }\n",
              "\n",
              "    .dataframe thead th {\n",
              "        text-align: right;\n",
              "    }\n",
              "</style>\n",
              "<table border=\"1\" class=\"dataframe\">\n",
              "  <thead>\n",
              "    <tr style=\"text-align: right;\">\n",
              "      <th></th>\n",
              "      <th>review_sentences</th>\n",
              "      <th>user_id</th>\n",
              "      <th>timestamp</th>\n",
              "      <th>rating</th>\n",
              "      <th>has_spoiler</th>\n",
              "      <th>book_id</th>\n",
              "      <th>review_id</th>\n",
              "    </tr>\n",
              "  </thead>\n",
              "  <tbody>\n",
              "    <tr>\n",
              "      <th>0</th>\n",
              "      <td>also high energy cosmic ray entering atmospher...</td>\n",
              "      <td>8842281e1d1347389f2ab93d60773d4d</td>\n",
              "      <td>2017-08-30</td>\n",
              "      <td>5</td>\n",
              "      <td>True</td>\n",
              "      <td>18245960</td>\n",
              "      <td>dfdbb7b0eb5a7e4c26d59a937e2e5feb</td>\n",
              "    </tr>\n",
              "    <tr>\n",
              "      <th>1</th>\n",
              "      <td>avail free december http www audible com mt el...</td>\n",
              "      <td>8842281e1d1347389f2ab93d60773d4d</td>\n",
              "      <td>2017-03-22</td>\n",
              "      <td>3</td>\n",
              "      <td>False</td>\n",
              "      <td>16981</td>\n",
              "      <td>a5d2c3628987712d0e05c4f90798eb67</td>\n",
              "    </tr>\n",
              "    <tr>\n",
              "      <th>2</th>\n",
              "      <td>cheat system live choice learn daniela say lif...</td>\n",
              "      <td>8842281e1d1347389f2ab93d60773d4d</td>\n",
              "      <td>2017-03-20</td>\n",
              "      <td>3</td>\n",
              "      <td>True</td>\n",
              "      <td>28684704</td>\n",
              "      <td>2ede853b14dc4583f96cf5d120af636f</td>\n",
              "    </tr>\n",
              "    <tr>\n",
              "      <th>3</th>\n",
              "      <td>http www npr org recommended reading understan...</td>\n",
              "      <td>8842281e1d1347389f2ab93d60773d4d</td>\n",
              "      <td>2016-11-09</td>\n",
              "      <td>0</td>\n",
              "      <td>False</td>\n",
              "      <td>27161156</td>\n",
              "      <td>ced5675e55cd9d38a524743f5c40996e</td>\n",
              "    </tr>\n",
              "    <tr>\n",
              "      <th>4</th>\n",
              "      <td>surfer love end freya finding meaning surfing ...</td>\n",
              "      <td>8842281e1d1347389f2ab93d60773d4d</td>\n",
              "      <td>2016-04-25</td>\n",
              "      <td>4</td>\n",
              "      <td>True</td>\n",
              "      <td>25884323</td>\n",
              "      <td>332732725863131279a8e345b63ac33e</td>\n",
              "    </tr>\n",
              "  </tbody>\n",
              "</table>\n",
              "</div>\n",
              "      <button class=\"colab-df-convert\" onclick=\"convertToInteractive('df-ce6fe71a-7c30-4a21-9193-58d5b1c4d1c2')\"\n",
              "              title=\"Convert this dataframe to an interactive table.\"\n",
              "              style=\"display:none;\">\n",
              "        \n",
              "  <svg xmlns=\"http://www.w3.org/2000/svg\" height=\"24px\"viewBox=\"0 0 24 24\"\n",
              "       width=\"24px\">\n",
              "    <path d=\"M0 0h24v24H0V0z\" fill=\"none\"/>\n",
              "    <path d=\"M18.56 5.44l.94 2.06.94-2.06 2.06-.94-2.06-.94-.94-2.06-.94 2.06-2.06.94zm-11 1L8.5 8.5l.94-2.06 2.06-.94-2.06-.94L8.5 2.5l-.94 2.06-2.06.94zm10 10l.94 2.06.94-2.06 2.06-.94-2.06-.94-.94-2.06-.94 2.06-2.06.94z\"/><path d=\"M17.41 7.96l-1.37-1.37c-.4-.4-.92-.59-1.43-.59-.52 0-1.04.2-1.43.59L10.3 9.45l-7.72 7.72c-.78.78-.78 2.05 0 2.83L4 21.41c.39.39.9.59 1.41.59.51 0 1.02-.2 1.41-.59l7.78-7.78 2.81-2.81c.8-.78.8-2.07 0-2.86zM5.41 20L4 18.59l7.72-7.72 1.47 1.35L5.41 20z\"/>\n",
              "  </svg>\n",
              "      </button>\n",
              "      \n",
              "  <style>\n",
              "    .colab-df-container {\n",
              "      display:flex;\n",
              "      flex-wrap:wrap;\n",
              "      gap: 12px;\n",
              "    }\n",
              "\n",
              "    .colab-df-convert {\n",
              "      background-color: #E8F0FE;\n",
              "      border: none;\n",
              "      border-radius: 50%;\n",
              "      cursor: pointer;\n",
              "      display: none;\n",
              "      fill: #1967D2;\n",
              "      height: 32px;\n",
              "      padding: 0 0 0 0;\n",
              "      width: 32px;\n",
              "    }\n",
              "\n",
              "    .colab-df-convert:hover {\n",
              "      background-color: #E2EBFA;\n",
              "      box-shadow: 0px 1px 2px rgba(60, 64, 67, 0.3), 0px 1px 3px 1px rgba(60, 64, 67, 0.15);\n",
              "      fill: #174EA6;\n",
              "    }\n",
              "\n",
              "    [theme=dark] .colab-df-convert {\n",
              "      background-color: #3B4455;\n",
              "      fill: #D2E3FC;\n",
              "    }\n",
              "\n",
              "    [theme=dark] .colab-df-convert:hover {\n",
              "      background-color: #434B5C;\n",
              "      box-shadow: 0px 1px 3px 1px rgba(0, 0, 0, 0.15);\n",
              "      filter: drop-shadow(0px 1px 2px rgba(0, 0, 0, 0.3));\n",
              "      fill: #FFFFFF;\n",
              "    }\n",
              "  </style>\n",
              "\n",
              "      <script>\n",
              "        const buttonEl =\n",
              "          document.querySelector('#df-ce6fe71a-7c30-4a21-9193-58d5b1c4d1c2 button.colab-df-convert');\n",
              "        buttonEl.style.display =\n",
              "          google.colab.kernel.accessAllowed ? 'block' : 'none';\n",
              "\n",
              "        async function convertToInteractive(key) {\n",
              "          const element = document.querySelector('#df-ce6fe71a-7c30-4a21-9193-58d5b1c4d1c2');\n",
              "          const dataTable =\n",
              "            await google.colab.kernel.invokeFunction('convertToInteractive',\n",
              "                                                     [key], {});\n",
              "          if (!dataTable) return;\n",
              "\n",
              "          const docLinkHtml = 'Like what you see? Visit the ' +\n",
              "            '<a target=\"_blank\" href=https://colab.research.google.com/notebooks/data_table.ipynb>data table notebook</a>'\n",
              "            + ' to learn more about interactive tables.';\n",
              "          element.innerHTML = '';\n",
              "          dataTable['output_type'] = 'display_data';\n",
              "          await google.colab.output.renderOutput(dataTable, element);\n",
              "          const docLink = document.createElement('div');\n",
              "          docLink.innerHTML = docLinkHtml;\n",
              "          element.appendChild(docLink);\n",
              "        }\n",
              "      </script>\n",
              "    </div>\n",
              "  </div>\n",
              "  "
            ],
            "text/plain": [
              "                                    review_sentences  \\\n",
              "0  also high energy cosmic ray entering atmospher...   \n",
              "1  avail free december http www audible com mt el...   \n",
              "2  cheat system live choice learn daniela say lif...   \n",
              "3  http www npr org recommended reading understan...   \n",
              "4  surfer love end freya finding meaning surfing ...   \n",
              "\n",
              "                            user_id   timestamp  rating  has_spoiler  \\\n",
              "0  8842281e1d1347389f2ab93d60773d4d  2017-08-30       5         True   \n",
              "1  8842281e1d1347389f2ab93d60773d4d  2017-03-22       3        False   \n",
              "2  8842281e1d1347389f2ab93d60773d4d  2017-03-20       3         True   \n",
              "3  8842281e1d1347389f2ab93d60773d4d  2016-11-09       0        False   \n",
              "4  8842281e1d1347389f2ab93d60773d4d  2016-04-25       4         True   \n",
              "\n",
              "    book_id                         review_id  \n",
              "0  18245960  dfdbb7b0eb5a7e4c26d59a937e2e5feb  \n",
              "1     16981  a5d2c3628987712d0e05c4f90798eb67  \n",
              "2  28684704  2ede853b14dc4583f96cf5d120af636f  \n",
              "3  27161156  ced5675e55cd9d38a524743f5c40996e  \n",
              "4  25884323  332732725863131279a8e345b63ac33e  "
            ]
          },
          "execution_count": 4,
          "metadata": {},
          "output_type": "execute_result"
        }
      ],
      "source": [
        "df.head()"
      ]
    },
    {
      "cell_type": "code",
      "execution_count": null,
      "metadata": {
        "colab": {
          "base_uri": "https://localhost:8080/",
          "height": 301
        },
        "id": "Ne5vCSPQYCMw",
        "outputId": "8b92e971-f1c2-4efb-9067-404e3eb6fa50"
      },
      "outputs": [
        {
          "data": {
            "text/plain": [
              "review_sentences                                    \n",
              "user_id             34216df2a5f3846b17e3f96bea6c2ad7\n",
              "timestamp                                 2017-08-15\n",
              "rating                                             3\n",
              "has_spoiler                                    False\n",
              "book_id                                      7818684\n",
              "review_id           ee2b6a6ef25de1ddf311faedfee82357\n",
              "Name: 1136, dtype: object"
            ]
          },
          "metadata": {},
          "output_type": "display_data"
        },
        {
          "data": {
            "text/plain": [
              "review_sentences    love harry potter story course would like thin...\n",
              "user_id                              34216df2a5f3846b17e3f96bea6c2ad7\n",
              "timestamp                                                  2016-05-22\n",
              "rating                                                              5\n",
              "has_spoiler                                                     False\n",
              "book_id                                                      23734628\n",
              "review_id                            d82af813eb4698f492eb2c3f9be644fb\n",
              "Name: 1137, dtype: object"
            ]
          },
          "metadata": {},
          "output_type": "display_data"
        }
      ],
      "source": [
        "listind=[]\n",
        "count=0\n",
        "for ind in df.index:\n",
        "    if len(df['review_sentences'][ind].strip())==0:\n",
        "        listind.append(ind)\n",
        "\n",
        "display(df.iloc[listind[0]])\n",
        "df.drop(listind, axis=0, inplace=True)\n",
        "display(df.iloc[listind[0]])"
      ]
    },
    {
      "cell_type": "code",
      "execution_count": null,
      "metadata": {
        "colab": {
          "base_uri": "https://localhost:8080/"
        },
        "id": "x60BDi9ufpw8",
        "outputId": "9988dc12-80a6-4ac8-8e8e-6209a84de6dc"
      },
      "outputs": [
        {
          "name": "stdout",
          "output_type": "stream",
          "text": [
            "342\n"
          ]
        }
      ],
      "source": [
        "print(len(listind))"
      ]
    },
    {
      "cell_type": "code",
      "execution_count": null,
      "metadata": {
        "id": "hsg9lWCni1tf"
      },
      "outputs": [],
      "source": [
        "import torch\n",
        "from torchtext.legacy import data\n",
        "import random\n",
        "import numpy as np\n",
        "\n",
        "SEED = 1234\n",
        "\n",
        "random.seed(SEED)\n",
        "np.random.seed(SEED)\n",
        "torch.manual_seed(SEED)\n",
        "torch.backends.cudnn.deterministic = True\n",
        "torch.backends.cudnn.deterministic = True\n",
        "\n",
        "\n"
      ]
    },
    {
      "cell_type": "code",
      "execution_count": null,
      "metadata": {
        "colab": {
          "base_uri": "https://localhost:8080/"
        },
        "id": "RKlkN8mOZY2V",
        "outputId": "fcf3f99e-e07d-4a71-8a43-f1ed65e4e2a0"
      },
      "outputs": [
        {
          "name": "stdout",
          "output_type": "stream",
          "text": [
            "Collecting transformers\n",
            "  Downloading transformers-4.17.0-py3-none-any.whl (3.8 MB)\n",
            "\u001b[K     |████████████████████████████████| 3.8 MB 7.0 MB/s \n",
            "\u001b[?25hRequirement already satisfied: importlib-metadata in /usr/local/lib/python3.7/dist-packages (from transformers) (4.11.3)\n",
            "Requirement already satisfied: tqdm>=4.27 in /usr/local/lib/python3.7/dist-packages (from transformers) (4.63.0)\n",
            "Collecting huggingface-hub<1.0,>=0.1.0\n",
            "  Downloading huggingface_hub-0.5.0-py3-none-any.whl (77 kB)\n",
            "\u001b[K     |████████████████████████████████| 77 kB 8.3 MB/s \n",
            "\u001b[?25hRequirement already satisfied: filelock in /usr/local/lib/python3.7/dist-packages (from transformers) (3.6.0)\n",
            "Collecting sacremoses\n",
            "  Downloading sacremoses-0.0.49-py3-none-any.whl (895 kB)\n",
            "\u001b[K     |████████████████████████████████| 895 kB 83.9 MB/s \n",
            "\u001b[?25hRequirement already satisfied: requests in /usr/local/lib/python3.7/dist-packages (from transformers) (2.23.0)\n",
            "Requirement already satisfied: numpy>=1.17 in /usr/local/lib/python3.7/dist-packages (from transformers) (1.21.5)\n",
            "Requirement already satisfied: regex!=2019.12.17 in /usr/local/lib/python3.7/dist-packages (from transformers) (2019.12.20)\n",
            "Requirement already satisfied: packaging>=20.0 in /usr/local/lib/python3.7/dist-packages (from transformers) (21.3)\n",
            "Collecting pyyaml>=5.1\n",
            "  Downloading PyYAML-6.0-cp37-cp37m-manylinux_2_5_x86_64.manylinux1_x86_64.manylinux_2_12_x86_64.manylinux2010_x86_64.whl (596 kB)\n",
            "\u001b[K     |████████████████████████████████| 596 kB 74.8 MB/s \n",
            "\u001b[?25hCollecting tokenizers!=0.11.3,>=0.11.1\n",
            "  Downloading tokenizers-0.11.6-cp37-cp37m-manylinux_2_12_x86_64.manylinux2010_x86_64.whl (6.5 MB)\n",
            "\u001b[K     |████████████████████████████████| 6.5 MB 79.5 MB/s \n",
            "\u001b[?25hRequirement already satisfied: typing-extensions>=3.7.4.3 in /usr/local/lib/python3.7/dist-packages (from huggingface-hub<1.0,>=0.1.0->transformers) (3.10.0.2)\n",
            "Requirement already satisfied: pyparsing!=3.0.5,>=2.0.2 in /usr/local/lib/python3.7/dist-packages (from packaging>=20.0->transformers) (3.0.7)\n",
            "Requirement already satisfied: zipp>=0.5 in /usr/local/lib/python3.7/dist-packages (from importlib-metadata->transformers) (3.7.0)\n",
            "Requirement already satisfied: chardet<4,>=3.0.2 in /usr/local/lib/python3.7/dist-packages (from requests->transformers) (3.0.4)\n",
            "Requirement already satisfied: urllib3!=1.25.0,!=1.25.1,<1.26,>=1.21.1 in /usr/local/lib/python3.7/dist-packages (from requests->transformers) (1.24.3)\n",
            "Requirement already satisfied: idna<3,>=2.5 in /usr/local/lib/python3.7/dist-packages (from requests->transformers) (2.10)\n",
            "Requirement already satisfied: certifi>=2017.4.17 in /usr/local/lib/python3.7/dist-packages (from requests->transformers) (2021.10.8)\n",
            "Requirement already satisfied: joblib in /usr/local/lib/python3.7/dist-packages (from sacremoses->transformers) (1.1.0)\n",
            "Requirement already satisfied: six in /usr/local/lib/python3.7/dist-packages (from sacremoses->transformers) (1.15.0)\n",
            "Requirement already satisfied: click in /usr/local/lib/python3.7/dist-packages (from sacremoses->transformers) (7.1.2)\n",
            "Installing collected packages: pyyaml, tokenizers, sacremoses, huggingface-hub, transformers\n",
            "  Attempting uninstall: pyyaml\n",
            "    Found existing installation: PyYAML 3.13\n",
            "    Uninstalling PyYAML-3.13:\n",
            "      Successfully uninstalled PyYAML-3.13\n",
            "Successfully installed huggingface-hub-0.5.0 pyyaml-6.0 sacremoses-0.0.49 tokenizers-0.11.6 transformers-4.17.0\n"
          ]
        }
      ],
      "source": [
        "!pip install transformers"
      ]
    },
    {
      "cell_type": "code",
      "execution_count": null,
      "metadata": {
        "colab": {
          "base_uri": "https://localhost:8080/",
          "height": 113,
          "referenced_widgets": [
            "b997054fa3e74d69a4df7019aa438c0d",
            "5a965f2cb7b6449c830eb52e8d907fb0",
            "3bf93f07b6804bc38e1c0d6abb78419b",
            "f99b651680ad4f118ffbc546a39cb361",
            "56313a4ff796414eb62032d1bd86adb3",
            "d46600864db84c538175453f7a30deff",
            "e56a3e2cb6874f01a0545883ab5f56ef",
            "965304991ea94b9da975815643feebb5",
            "5b2e82b834ac4976a6e6ec5fd55f47a0",
            "0e7be3cdcebb49a2ba770b8815380ff3",
            "b57666e3c8b44d3e97d7ff1259bc99f0",
            "273bc252c9244d18a87fce5312c23b23",
            "6c956a96d8804479a5c435ea0ce299ff",
            "fe19ea26ff024822b0ddba8074159d95",
            "97f56d5919b84ca396571fcf84d8405b",
            "abe2964976854f9b8d9c0e97182eff4f",
            "83b7d70f02fb405db8c326ed40bcc8e0",
            "9e422aea4e8b46f0bb445a779f5ef55e",
            "2d36037e60884229adc339a1026733c2",
            "04d51ff3ed624cf5a743cce696d77c3e",
            "0bd8bf2233be451db6e79c9e866d5061",
            "a7b57c72605a4fb8870c8a5f1a352c96",
            "82d02aff859c4f7c89c2087736866c75",
            "97efb17214c54bf39c4f67a3acb6c033",
            "aba24baa66094bd3865aee2331d85cd7",
            "3986ae01045a4b1eb58fa2adcd6270e0",
            "193d389645124345962026e58a58ad8c",
            "3cfa3caa0eec46d18d327621aa658b2c",
            "e20c9a0a942f415fa8a5b22dcb9f4ae6",
            "7665edcf77fd49319afc4f31edad5432",
            "608079fdb6964c72855ba1d06aa57811",
            "591140bf786547cc9e17eaf560d8f2c4",
            "01944ae2025540cb8ddc7c475afefd57"
          ]
        },
        "id": "OsUQ89G5uyKH",
        "outputId": "af8dae16-b858-4fe5-82d8-d03567fc72da"
      },
      "outputs": [
        {
          "data": {
            "application/vnd.jupyter.widget-view+json": {
              "model_id": "b997054fa3e74d69a4df7019aa438c0d",
              "version_major": 2,
              "version_minor": 0
            },
            "text/plain": [
              "Downloading:   0%|          | 0.00/226k [00:00<?, ?B/s]"
            ]
          },
          "metadata": {},
          "output_type": "display_data"
        },
        {
          "data": {
            "application/vnd.jupyter.widget-view+json": {
              "model_id": "273bc252c9244d18a87fce5312c23b23",
              "version_major": 2,
              "version_minor": 0
            },
            "text/plain": [
              "Downloading:   0%|          | 0.00/28.0 [00:00<?, ?B/s]"
            ]
          },
          "metadata": {},
          "output_type": "display_data"
        },
        {
          "data": {
            "application/vnd.jupyter.widget-view+json": {
              "model_id": "82d02aff859c4f7c89c2087736866c75",
              "version_major": 2,
              "version_minor": 0
            },
            "text/plain": [
              "Downloading:   0%|          | 0.00/570 [00:00<?, ?B/s]"
            ]
          },
          "metadata": {},
          "output_type": "display_data"
        }
      ],
      "source": [
        "from transformers import BertTokenizer\n",
        "\n",
        "tokenizer = BertTokenizer.from_pretrained('bert-base-uncased')"
      ]
    },
    {
      "cell_type": "code",
      "execution_count": null,
      "metadata": {
        "colab": {
          "base_uri": "https://localhost:8080/"
        },
        "id": "tHHA_KAXu0o-",
        "outputId": "f1dc65e8-dd06-492c-c0c9-ec85b7125d25"
      },
      "outputs": [
        {
          "data": {
            "text/plain": [
              "30522"
            ]
          },
          "execution_count": 10,
          "metadata": {},
          "output_type": "execute_result"
        }
      ],
      "source": [
        "len(tokenizer.vocab)"
      ]
    },
    {
      "cell_type": "code",
      "execution_count": null,
      "metadata": {
        "colab": {
          "base_uri": "https://localhost:8080/"
        },
        "id": "sU_0E6-yu5id",
        "outputId": "0c1dd32e-2f7b-4d07-b521-edac37b3b4c9"
      },
      "outputs": [
        {
          "name": "stdout",
          "output_type": "stream",
          "text": [
            "['hello', 'world', 'how', 'are', 'you', '?']\n",
            "[7592, 2088, 2129, 2024, 2017, 1029]\n"
          ]
        }
      ],
      "source": [
        "tokens = tokenizer.tokenize('Hello WORLD how ARE yoU?')\n",
        "\n",
        "print(tokens)\n",
        "indexes = tokenizer.convert_tokens_to_ids(tokens)\n",
        "\n",
        "print(indexes)"
      ]
    },
    {
      "cell_type": "code",
      "execution_count": null,
      "metadata": {
        "colab": {
          "base_uri": "https://localhost:8080/"
        },
        "id": "y-SRobutvCef",
        "outputId": "36329465-c900-45e8-e057-7fb0bb0ff154"
      },
      "outputs": [
        {
          "name": "stdout",
          "output_type": "stream",
          "text": [
            "[CLS] [SEP] [PAD] [UNK]\n"
          ]
        }
      ],
      "source": [
        "init_token = tokenizer.cls_token\n",
        "eos_token = tokenizer.sep_token\n",
        "pad_token = tokenizer.pad_token\n",
        "unk_token = tokenizer.unk_token\n",
        "\n",
        "print(init_token, eos_token, pad_token, unk_token)"
      ]
    },
    {
      "cell_type": "code",
      "execution_count": null,
      "metadata": {
        "colab": {
          "base_uri": "https://localhost:8080/"
        },
        "id": "4ZP7CpJLvHtx",
        "outputId": "d5e381a6-1062-42dd-bb93-8d79082d511c"
      },
      "outputs": [
        {
          "name": "stdout",
          "output_type": "stream",
          "text": [
            "101 102 0 100\n"
          ]
        }
      ],
      "source": [
        "init_token_idx = tokenizer.convert_tokens_to_ids(init_token)\n",
        "eos_token_idx = tokenizer.convert_tokens_to_ids(eos_token)\n",
        "pad_token_idx = tokenizer.convert_tokens_to_ids(pad_token)\n",
        "unk_token_idx = tokenizer.convert_tokens_to_ids(unk_token)\n",
        "\n",
        "print(init_token_idx, eos_token_idx, pad_token_idx, unk_token_idx)"
      ]
    },
    {
      "cell_type": "code",
      "execution_count": null,
      "metadata": {
        "colab": {
          "base_uri": "https://localhost:8080/"
        },
        "id": "WfvdRho0vSIp",
        "outputId": "73e8680e-3059-49cc-aa02-a7dd96d13ea1"
      },
      "outputs": [
        {
          "name": "stdout",
          "output_type": "stream",
          "text": [
            "512\n"
          ]
        }
      ],
      "source": [
        "max_input_length = tokenizer.max_model_input_sizes['bert-base-uncased']\n",
        "\n",
        "print(max_input_length)"
      ]
    },
    {
      "cell_type": "code",
      "execution_count": null,
      "metadata": {
        "id": "s-bjVIgGvaHz"
      },
      "outputs": [],
      "source": [
        "def tokenize_and_cut(sentence):\n",
        "    tokens = tokenizer.tokenize(sentence)\n",
        "    tokens = tokens[:max_input_length-2]\n",
        "    return tokens"
      ]
    },
    {
      "cell_type": "code",
      "execution_count": null,
      "metadata": {
        "id": "_RvhjL5FvgS2"
      },
      "outputs": [],
      "source": [
        "TEXT = data.Field(batch_first = True,\n",
        "                  use_vocab = False,\n",
        "                  tokenize = tokenize_and_cut,\n",
        "                  preprocessing = tokenizer.convert_tokens_to_ids,\n",
        "                  init_token = init_token_idx,\n",
        "                  eos_token = eos_token_idx,\n",
        "                  pad_token = pad_token_idx,\n",
        "                  unk_token = unk_token_idx)\n",
        "\n",
        "LABEL = data.LabelField(dtype = torch.float)\n",
        "fields={'has_spoiler':('label',LABEL),'review_sentences':('data',TEXT)}"
      ]
    },
    {
      "cell_type": "code",
      "execution_count": null,
      "metadata": {
        "colab": {
          "base_uri": "https://localhost:8080/"
        },
        "id": "sBbtMZY1pQos",
        "outputId": "621c6532-b3dc-464e-fc5c-0724596052c0"
      },
      "outputs": [
        {
          "name": "stdout",
          "output_type": "stream",
          "text": [
            "275539\n"
          ]
        }
      ],
      "source": [
        "train,test=train_test_split(df,test_size=0.2)\n",
        "test.head()\n",
        "print(len(test))\n",
        "del df"
      ]
    },
    {
      "cell_type": "code",
      "execution_count": null,
      "metadata": {
        "id": "rrtDCNL8pfP0"
      },
      "outputs": [],
      "source": [
        "train.to_json('train.json',orient='records',lines=True)\n",
        "test.to_json('test.json',orient='records',lines=True)\n",
        "del train, test"
      ]
    },
    {
      "cell_type": "code",
      "execution_count": null,
      "metadata": {
        "colab": {
          "background_save": true
        },
        "id": "t6AlPovYqqcl"
      },
      "outputs": [],
      "source": [
        "train_data,test_data=TabularDataset.splits(path='',\n",
        "                                          train='train.json',\n",
        "                                          test='test.json',\n",
        "                                          format='json',\n",
        "                                          fields=fields)"
      ]
    },
    {
      "cell_type": "code",
      "execution_count": null,
      "metadata": {
        "colab": {
          "background_save": true,
          "base_uri": "https://localhost:8080/"
        },
        "id": "t5bqbZYIjPpb",
        "outputId": "fc8dac29-22da-409e-9071-bddfedb36694"
      },
      "outputs": [
        {
          "name": "stdout",
          "output_type": "stream",
          "text": [
            "1102152\n"
          ]
        }
      ],
      "source": [
        "\n",
        "print(len(train_data))"
      ]
    },
    {
      "cell_type": "code",
      "execution_count": null,
      "metadata": {
        "colab": {
          "background_save": true,
          "base_uri": "https://localhost:8080/"
        },
        "id": "g00q9zlpk_Nc",
        "outputId": "cab92c77-2d86-408a-f7f0-beea2c8472b3"
      },
      "outputs": [
        {
          "name": "stdout",
          "output_type": "stream",
          "text": [
            "valid data sample <torchtext.legacy.data.example.Example object at 0x7f9efef0ca10>\n",
            "defaultdict(None, {False: 0, True: 1})\n"
          ]
        }
      ],
      "source": [
        "import random\n",
        "torch.cuda.empty_cache()\n",
        "train_data, valid_data = train_data.split(random_state = random.seed(SEED))\n",
        "MAX_VOCAB_SIZE = 25_000\n",
        "print (\"valid data sample\", valid_data[0])\n",
        "\n",
        "#TEXT.build_vocab(train_data,\n",
        "#                 max_size = MAX_VOCAB_SIZE,\n",
        "#                 vectors = \"glove.6B.100d\",\n",
        "#                 unk_init = torch.Tensor.normal_)\n",
        "\n",
        "\"\"\"TEXT.build_vocab(train_data,\n",
        "                 max_size = MAX_VOCAB_SIZE)\"\"\"\n",
        "LABEL.build_vocab(train_data)\n",
        "print(LABEL.vocab.stoi)\n",
        "train_iterator,valid_iterator,test_iterator=data.BucketIterator.splits((train_data,valid_data,test_data),sort=False,\n",
        "                                                  batch_size=128,\n",
        "                                                  device='cuda')"
      ]
    },
    {
      "cell_type": "code",
      "execution_count": null,
      "metadata": {
        "colab": {
          "background_save": true,
          "base_uri": "https://localhost:8080/"
        },
        "id": "59p5PCwUlUuv",
        "outputId": "fb242243-6ef7-4707-c0f6-499aad957b74"
      },
      "outputs": [
        {
          "name": "stdout",
          "output_type": "stream",
          "text": [
            "Number of training examples: 771506\n",
            "Number of testing examples: 275539\n",
            "Number of valid 1 examples: 330646\n",
            "{'label': False, 'data': [2293, 2293, 3866, 7568, 3191, 2279, 2338, 6172, 4108, 2767, 2041, 3122, 4509, 11333, 17413, 12289, 9875, 3348, 2643, 7905, 27405, 5051, 2879, 2116, 2611, 5220, 2113, 3752, 2338, 2117, 2051, 2145, 25614, 2921, 3241, 4108, 8415, 2611, 8579, 4108, 16668, 6057, 2972, 2051, 3752, 2338, 3236, 4906, 17565, 27146, 1055, 13542, 2121, 1038, 20051, 4630, 14477, 22083, 9072, 7239, 7339, 2738, 8467, 7426, 2095, 2214, 2611, 3424, 6895, 17585, 2505, 2307, 5995, 9415, 4810, 4756, 25614, 2135, 10825, 2767, 2839, 2467, 2613, 2338, 2467, 2569, 4527, 9454, 2611, 6709, 4108, 9078, 6080, 2560, 2210, 2978, 2036, 2131, 2157, 9454, 2611, 2132, 4011, 6057, 2784, 15902, 2245, 4013, 22776, 21645, 8216, 2135, 17211, 2364, 17961, 3043, 2338, 2092, 2517, 14916, 8977, 2239, 2202, 5667, 3015, 25506, 2135, 6057, 2215, 2203, 3294, 2579, 2338, 4748, 5686, 2338, 4108, 2767, 14855, 2015, 2131, 26316, 3663, 2247, 2767, 10424, 9013, 23238, 2229, 3201, 3191, 2717, 2338, 2338, 26316, 26316, 2052, 2655, 5905, 5165, 2371, 2560, 2978, 5905, 9107, 2228, 2034, 2051, 3191, 2220, 3191]}\n",
            "{'label': False, 'data': [5667, 9951, 2135, 2980]}\n",
            "[3322, 22249, 6752, 23328, 8488, 3393, 22249, 6752]\n",
            "<class 'torchtext.legacy.data.example.Example'>\n",
            "Unique tokens in LABEL vocabulary: 2\n",
            "<torchtext.legacy.vocab.Vocab object at 0x7f9f11c18d90>\n"
          ]
        }
      ],
      "source": [
        "print(f'Number of training examples: {len(train_data)}')\n",
        "print(f'Number of testing examples: {len(test_data)}')\n",
        "print(f'Number of valid 1 examples: {len(valid_data)}')\n",
        "print(vars(valid_data.examples[0]))\n",
        "print(vars(train_data.examples[0]))\n",
        "print(test_data.examples[0].data)\n",
        "#print(train_data.examples[0][1])\n",
        "print(type(train_data.examples[0]))\n",
        "#print(f\"Unique tokens in TEXT vocabulary: {len(TEXT.vocab)}\")\n",
        "print(f\"Unique tokens in LABEL vocabulary: {len(LABEL.vocab)}\")\n",
        "print(LABEL.vocab)\n",
        "#lstEmpty=[]\n",
        "\n",
        "#for i in  range(len(valid_data)):\n",
        "#if len(valid_data.examples[i].data)<=0:\n",
        "#    lstEmpty.append(valid_data.examples[i].data)\n",
        " #   print(vars(valid_data.examples[i]))\n",
        "\n",
        "#print(len(lstEmpty))\n"
      ]
    },
    {
      "cell_type": "code",
      "execution_count": null,
      "metadata": {
        "colab": {
          "background_save": true,
          "base_uri": "https://localhost:8080/",
          "height": 122
        },
        "id": "GRPlBa5vVgx2",
        "outputId": "569fe371-80d6-48b2-bb88-1d405f614e1b"
      },
      "outputs": [
        {
          "name": "stderr",
          "output_type": "stream",
          "text": [
            "Some weights of the model checkpoint at bert-base-uncased were not used when initializing BertModel: ['cls.predictions.transform.dense.bias', 'cls.predictions.transform.LayerNorm.weight', 'cls.predictions.transform.LayerNorm.bias', 'cls.predictions.bias', 'cls.seq_relationship.weight', 'cls.predictions.transform.dense.weight', 'cls.seq_relationship.bias', 'cls.predictions.decoder.weight']\n",
            "- This IS expected if you are initializing BertModel from the checkpoint of a model trained on another task or with another architecture (e.g. initializing a BertForSequenceClassification model from a BertForPreTraining model).\n",
            "- This IS NOT expected if you are initializing BertModel from the checkpoint of a model that you expect to be exactly identical (initializing a BertForSequenceClassification model from a BertForSequenceClassification model).\n"
          ]
        }
      ],
      "source": [
        "from transformers import BertTokenizer, BertModel\n",
        "\n",
        "bert = BertModel.from_pretrained('bert-base-uncased')"
      ]
    },
    {
      "cell_type": "code",
      "execution_count": null,
      "metadata": {
        "colab": {
          "background_save": true
        },
        "id": "XgVig-vdlV0s"
      },
      "outputs": [],
      "source": [
        "HIDDEN_DIM = 256\n",
        "OUTPUT_DIM = 1\n",
        "N_LAYERS = 3\n",
        "BIDIRECTIONAL = True\n",
        "DROPOUT = 0.25\n",
        "\n",
        "model = BERTGRU(bert,\n",
        "                         HIDDEN_DIM,\n",
        "                         OUTPUT_DIM,\n",
        "                         N_LAYERS,\n",
        "                         BIDIRECTIONAL,\n",
        "                         DROPOUT)"
      ]
    },
    {
      "cell_type": "code",
      "execution_count": null,
      "metadata": {
        "colab": {
          "background_save": true
        },
        "id": "iTS1rfx8lb1q"
      },
      "outputs": [],
      "source": [
        "def count_parameters(model):\n",
        "    return sum(p.numel() for p in model.parameters() if p.requires_grad)\n"
      ]
    },
    {
      "cell_type": "code",
      "execution_count": null,
      "metadata": {
        "colab": {
          "background_save": true,
          "base_uri": "https://localhost:8080/"
        },
        "id": "tmNHgejvlgVj",
        "outputId": "3198005c-1ef4-4e39-fba4-2f5bfe6bd3f2"
      },
      "outputs": [
        {
          "name": "stdout",
          "output_type": "stream",
          "text": [
            "The model has 109,926,273 trainable parameters\n"
          ]
        }
      ],
      "source": [
        "print(f'The model has {count_parameters(model):,} trainable parameters')"
      ]
    },
    {
      "cell_type": "code",
      "execution_count": null,
      "metadata": {
        "colab": {
          "background_save": true
        },
        "id": "zt9qeWYFXQ87"
      },
      "outputs": [],
      "source": [
        "for name, param in model.named_parameters():\n",
        "    if name.startswith('bert'):\n",
        "        param.requires_grad = False"
      ]
    },
    {
      "cell_type": "code",
      "execution_count": null,
      "metadata": {
        "colab": {
          "background_save": true,
          "base_uri": "https://localhost:8080/"
        },
        "id": "4jdEEqE0Xe5L",
        "outputId": "13b4c4b2-8fe9-419f-ccc9-0226bba53114"
      },
      "outputs": [
        {
          "name": "stdout",
          "output_type": "stream",
          "text": [
            "The model has 444,033 trainable parameters\n"
          ]
        }
      ],
      "source": [
        "def count_parameters(model):\n",
        "    return sum(p.numel() for p in model.parameters() if p.requires_grad)\n",
        "\n",
        "print(f'The model has {count_parameters(model):,} trainable parameters')"
      ]
    },
    {
      "cell_type": "code",
      "execution_count": null,
      "metadata": {
        "colab": {
          "background_save": true,
          "base_uri": "https://localhost:8080/"
        },
        "id": "HLMwscBMlorZ",
        "outputId": "b7d0faad-ee7c-4d21-d54c-2183c372fdef"
      },
      "outputs": [
        {
          "name": "stdout",
          "output_type": "stream",
          "text": [
            "rnn.weight_ih_l0\n",
            "rnn.weight_hh_l0\n",
            "rnn.bias_ih_l0\n",
            "rnn.bias_hh_l0\n",
            "rnn.weight_ih_l1\n",
            "rnn.weight_hh_l1\n",
            "rnn.bias_ih_l1\n",
            "rnn.bias_hh_l1\n",
            "out.weight\n",
            "out.bias\n"
          ]
        }
      ],
      "source": [
        "for name, param in model.named_parameters():\n",
        "    if param.requires_grad:\n",
        "        print(name)\n"
      ]
    },
    {
      "cell_type": "code",
      "execution_count": null,
      "metadata": {
        "colab": {
          "background_save": true,
          "base_uri": "https://localhost:8080/"
        },
        "id": "BWXRpgyPlt7y",
        "outputId": "bb429516-8141-4e2e-d214-08d8ad44d8a2"
      },
      "outputs": [
        {
          "name": "stdout",
          "output_type": "stream",
          "text": [
            "1.10.0+cu111\n"
          ]
        }
      ],
      "source": [
        "import torch.optim as optim\n",
        "\n",
        "print(torch.__version__)\n",
        "optimizer = optim.Adam(model.parameters())\n",
        "\n",
        "criterion =nn.BCEWithLogitsLoss()\n",
        "device = torch.device(\"cuda\")\n",
        "model = model.to(device)\n",
        "criterion = criterion.to(device)\n"
      ]
    },
    {
      "cell_type": "code",
      "execution_count": null,
      "metadata": {
        "colab": {
          "background_save": true
        },
        "id": "48yflBjYhLET"
      },
      "outputs": [],
      "source": [
        "def focal_loss(bce_loss, targets, gamma, alpha):\n",
        "    \"\"\"Binary focal loss, mean.\n",
        "\n",
        "    Per https://discuss.pytorch.org/t/is-this-a-correct-implementation-for-focal-loss-in-pytorch/43327/5 with\n",
        "    improvements for alpha.\n",
        "    :param bce_loss: Binary Cross Entropy loss, a torch tensor.\n",
        "    :param targets: a torch tensor containing the ground truth, 0s and 1s.\n",
        "    :param gamma: focal loss power parameter, a float scalar.\n",
        "    :param alpha: weight of the class indicated by 1, a float scalar.\n",
        "    \"\"\"\n",
        "    p_t = torch.exp(-bce_loss)\n",
        "    alpha_tensor = (1 - alpha) + targets * (2 * alpha - 1)  # alpha if target = 1 and 1 - alpha if target = 0\n",
        "    f_loss = alpha_tensor * (1 - p_t) ** gamma * bce_loss\n",
        "    return f_loss.mean()"
      ]
    },
    {
      "cell_type": "code",
      "execution_count": null,
      "metadata": {
        "colab": {
          "background_save": true
        },
        "id": "Z9zH5GbOl5Gm"
      },
      "outputs": [],
      "source": [
        "def binary_accuracy(rounded_preds, y):\n",
        "    \"\"\"\n",
        "    Returns accuracy per batch, i.e. if you get 8/10 right, this returns 0.8, NOT 8\n",
        "    \"\"\"\n",
        "\n",
        "    #round predictions to the closest integer\n",
        "\n",
        "    correct = (rounded_preds == y).float() #convert into float for division\n",
        "    acc = correct.sum() / len(rounded_preds)\n",
        "    return acc"
      ]
    },
    {
      "cell_type": "code",
      "execution_count": null,
      "metadata": {
        "colab": {
          "background_save": true
        },
        "id": "GIh0oEbPmFN9"
      },
      "outputs": [],
      "source": [
        "import time\n",
        "\n",
        "def epoch_time(start_time, end_time):\n",
        "    elapsed_time = end_time - start_time\n",
        "    elapsed_mins = int(elapsed_time / 60)\n",
        "    elapsed_secs = int(elapsed_time - (elapsed_mins * 60))\n",
        "    return elapsed_mins, elapsed_secs"
      ]
    },
    {
      "cell_type": "code",
      "execution_count": null,
      "metadata": {
        "colab": {
          "background_save": true,
          "base_uri": "https://localhost:8080/"
        },
        "id": "OvoQO0ojUA0r",
        "outputId": "a8078520-243a-474f-b406-ae8188228424"
      },
      "outputs": [
        {
          "name": "stdout",
          "output_type": "stream",
          "text": [
            "Requirement already satisfied: torchmetrics in /usr/local/lib/python3.7/dist-packages (0.7.3)\n",
            "Requirement already satisfied: torch>=1.3.1 in /usr/local/lib/python3.7/dist-packages (from torchmetrics) (1.10.0+cu111)\n",
            "Requirement already satisfied: packaging in /usr/local/lib/python3.7/dist-packages (from torchmetrics) (21.3)\n",
            "Requirement already satisfied: pyDeprecate==0.3.* in /usr/local/lib/python3.7/dist-packages (from torchmetrics) (0.3.2)\n",
            "Requirement already satisfied: numpy>=1.17.2 in /usr/local/lib/python3.7/dist-packages (from torchmetrics) (1.21.5)\n",
            "Requirement already satisfied: typing-extensions in /usr/local/lib/python3.7/dist-packages (from torch>=1.3.1->torchmetrics) (3.10.0.2)\n",
            "Requirement already satisfied: pyparsing!=3.0.5,>=2.0.2 in /usr/local/lib/python3.7/dist-packages (from packaging->torchmetrics) (3.0.7)\n"
          ]
        }
      ],
      "source": [
        "!pip install torchmetrics"
      ]
    },
    {
      "cell_type": "code",
      "execution_count": null,
      "metadata": {
        "colab": {
          "background_save": true
        },
        "id": "wlajLpprl6Be"
      },
      "outputs": [],
      "source": [
        "\n",
        "from torchmetrics.classification import PrecisionRecallCurve\n",
        "\n",
        "from torchmetrics import AUC\n",
        "import torchmetrics\n",
        "from torchmetrics import ConfusionMatrix\n",
        "from torchmetrics import Accuracy\n",
        "\n",
        "\n",
        "# initialize metric\n",
        "\n",
        "def train(model, iterator, optimizer, criterion):\n",
        "    aucMetric = AUC(compute_on_step=True,reorder=True)\n",
        "    F1Metric=torchmetrics.F1Score(compute_on_step=True).cuda()\n",
        "\n",
        "    PrecMetric=torchmetrics.Precision(compute_on_step=True).cuda()\n",
        "    RecallMetric=torchmetrics.Recall(compute_on_step=True).cuda()\n",
        "    aucRCurveMetric=torchmetrics.AUROC(compute_on_step=True).cuda()\n",
        "    confmat = ConfusionMatrix(num_classes=2,compute_on_step=True).cuda()\n",
        "    accTorch=Accuracy(compute_on_step=True).cuda()\n",
        "    epoch_loss = 0\n",
        "    epoch_acc = 0\n",
        "    epoch_auc=0\n",
        "    model.train()\n",
        "    gamma = torch.tensor(1.0, dtype = torch.float32).cuda()\n",
        "    alpha=torch.tensor(0.5, dtype = torch.float32).cuda()\n",
        "    for batch in iterator:\n",
        "\n",
        "        optimizer.zero_grad()\n",
        "\n",
        "        #print(batch)\n",
        "        #print(batch.data)\n",
        "\n",
        "        predictions=model(batch.data).squeeze(1)\n",
        "        predictionsigmoid=torch.sigmoid(predictions)\n",
        "        rounded_preds=torch.round(predictionsigmoid)\n",
        "\n",
        "\n",
        "        #print(rounded_preds)\n",
        "\n",
        "        #print(\"Batch labels  \" ,batch.label.int().cuda())\n",
        "        bce_loss = criterion(predictions, batch.label)\n",
        "        loss= focal_loss(bce_loss,batch.label,gamma,alpha)\n",
        "        #print(loss)\n",
        "\n",
        "        acc = binary_accuracy(rounded_preds, batch.label)\n",
        "        confmat.update(rounded_preds, batch.label.type(torch.IntTensor).cuda())\n",
        "        accTorch.update(rounded_preds,batch.label.type(torch.IntTensor).cuda())\n",
        "        aucMetric.update(rounded_preds, batch.label)\n",
        "        F1Metric.update(rounded_preds, batch.label.type(torch.IntTensor).cuda())\n",
        "        PrecMetric.update(rounded_preds, batch.label.type(torch.IntTensor).cuda())\n",
        "        RecallMetric.update(rounded_preds,batch.label.type(torch.IntTensor).cuda())\n",
        "        aucRCurveMetric.update(rounded_preds, batch.label.type(torch.IntTensor).cuda())\n",
        "\n",
        "        loss.backward()\n",
        "\n",
        "        optimizer.step()\n",
        "\n",
        "        epoch_loss += loss.item()\n",
        "        epoch_acc += acc.item()\n",
        "    allMetrics={'AUC':aucMetric.compute(),'Precision':PrecMetric.compute(),'Recall':RecallMetric.compute(),\n",
        "                'F1':F1Metric.compute(),'AUCR':aucRCurveMetric.compute(),'accTorch':accTorch.compute(),\n",
        "                'Confusion':confmat.compute()}\n",
        "\n",
        "    #allMetrics={'AUC':aucMetric.compute(),'F1':F1Metric.compute(),'Precision':PrecMetric.compute(),\n",
        "    #            'Recall':RecallMetric.compute(),'AUCR':aucRCurveMetric.compute()}\n",
        "\n",
        "    return epoch_loss / len(iterator), epoch_acc / len(iterator),allMetrics"
      ]
    },
    {
      "cell_type": "code",
      "execution_count": null,
      "metadata": {
        "colab": {
          "background_save": true
        },
        "id": "ktbOcmvAl-0W"
      },
      "outputs": [],
      "source": [
        "def evaluate(model, iterator, criterion):\n",
        "\n",
        "\n",
        "    aucMetric = AUC(compute_on_step=True,reorder=True)\n",
        "    F1Metric=torchmetrics.F1Score(compute_on_step=True).cuda()\n",
        "\n",
        "    PrecMetric=torchmetrics.Precision(compute_on_step=True).cuda()\n",
        "    RecallMetric=torchmetrics.Recall(compute_on_step=True).cuda()\n",
        "    aucRCurveMetric=torchmetrics.AUROC(compute_on_step=True).cuda()\n",
        "    epoch_loss = 0\n",
        "    epoch_acc = 0\n",
        "    epoch_auc=0\n",
        "\n",
        "    gamma = torch.tensor(1.0, dtype = torch.float32).cuda()\n",
        "    alpha=torch.tensor(0.3, dtype = torch.float32).cuda()\n",
        "    model.eval()\n",
        "\n",
        "    with torch.no_grad():\n",
        "\n",
        "        for batch in  iterator:\n",
        "\n",
        "\n",
        "            predictions = model(batch.data).squeeze(1)\n",
        "\n",
        "            predictionsigmoid=torch.sigmoid(predictions)\n",
        "            rounded_preds=torch.round(predictionsigmoid)\n",
        "\n",
        "\n",
        "        #print(rounded_preds)\n",
        "\n",
        "            #print(\"Batch labels  \", batch.label.int().cuda())\n",
        "            bce_loss = criterion(predictions, batch.label)\n",
        "            loss= focal_loss(bce_loss,batch.label,gamma,alpha)\n",
        "        #print(loss)\n",
        "\n",
        "            acc = binary_accuracy(rounded_preds, batch.label)\n",
        "            aucMetric.update(rounded_preds, batch.label)\n",
        "            F1Metric.update(rounded_preds, batch.label.type(torch.IntTensor).cuda())\n",
        "            PrecMetric.update(rounded_preds, batch.label.type(torch.IntTensor).cuda())\n",
        "            RecallMetric.update(rounded_preds,batch.label.type(torch.IntTensor).cuda())\n",
        "            aucRCurveMetric.update(rounded_preds, batch.label.type(torch.IntTensor).cuda())\n",
        "\n",
        "            epoch_loss += loss.item()\n",
        "            epoch_acc += acc.item()\n",
        "    allMetrics={'AUC':aucMetric.compute(),'Precision':PrecMetric.compute(),'Recall':RecallMetric.compute(),\n",
        "                'F1':F1Metric.compute(),'AUCR':aucRCurveMetric.compute()}\n",
        "\n",
        "    #allMetrics={'AUC':aucMetric.compute(),'F1':F1Metric.compute(),'Precision':PrecMetric.compute(),\n",
        "    #            'Recall':RecallMetric.compute(),'AUCR':aucRCurveMetric.compute()}\n",
        "\n",
        "    return epoch_loss / len(iterator), epoch_acc / len(iterator),allMetrics\n",
        "\n",
        ""
      ]
    },
    {
      "cell_type": "code",
      "execution_count": null,
      "metadata": {
        "colab": {
          "background_save": true,
          "base_uri": "https://localhost:8080/"
        },
        "id": "fwU02ji1mJ8k",
        "outputId": "540ad97c-f446-4f29-d86d-f1593659436d"
      },
      "outputs": [
        {
          "name": "stderr",
          "output_type": "stream",
          "text": [
            "\r  0%|          | 0/5 [00:00<?, ?it/s]/usr/local/lib/python3.7/dist-packages/torchmetrics/utilities/prints.py:36: UserWarning: Metric `AUC` will save all targets and predictions in buffer. For large datasets this may lead to large memory footprint.\n",
            "  warnings.warn(*args, **kwargs)\n",
            "/usr/local/lib/python3.7/dist-packages/torchmetrics/utilities/prints.py:36: UserWarning: Metric `AUROC` will save all targets and predictions in buffer. For large datasets this may lead to large memory footprint.\n",
            "  warnings.warn(*args, **kwargs)\n"
          ]
        }
      ],
      "source": [
        "\n",
        "from torch.utils.tensorboard import SummaryWriter\n",
        "from tqdm import tqdm\n",
        "writer = SummaryWriter('tensorboard/runs')\n",
        "N_EPOCHS = 5\n",
        "dfData=pd.DataFrame()\n",
        "best_valid_loss = float('inf')\n",
        "dfData=pd.DataFrame()\n",
        "Epoch=[]\n",
        "listDfData=[]\n",
        "train_lossList,valid_lossList,test_lossList=[],[],[]\n",
        "train_accList,valid_accList,test_accList=[],[],[]\n",
        "train_aucList,valid_aucList,test_aucList=[],[],[]\n",
        "train_auCuList,valid_auCuList,test_auCuList=[],[],[]\n",
        "train_F1List,valid_F1List,test_F1List=[],[],[]\n",
        "train_PreList,valid_PreList,test_PreList=[],[],[]\n",
        "train_RecallList,valid_RecallList,test_RecallList=[],[],[]\n",
        "\n",
        "for epoch in tqdm(range(N_EPOCHS)):\n",
        "\n",
        "    start_time = time.time()\n",
        "\n",
        "    train_loss, train_acc,train_allMetrics = train(model, train_iterator, optimizer, criterion)\n",
        "    valid_loss, valid_acc,valid_allMetrics = evaluate(model, valid_iterator, criterion)\n",
        "\n",
        "    end_time = time.time()\n",
        "\n",
        "    epoch_mins, epoch_secs = epoch_time(start_time, end_time)\n",
        "\n",
        "    if valid_loss < best_valid_loss:\n",
        "        best_valid_loss = valid_loss\n",
        "        torch.save(model.state_dict(), 'tut1-model.pt')\n",
        "\n",
        "    print(f'Epoch: {epoch+1:02} | Epoch Time: {epoch_mins}m {epoch_secs}s')\n",
        "    print(f'\\tTrain Loss: {train_loss:.3f} | Train Acc: {train_acc*100:.2f} | All Metrics:{train_allMetrics}')\n",
        "    print(f'\\t Val. Loss: {valid_loss:.3f} |  Val. Acc: {valid_acc*100:.2f} | Val All Metrics:{train_allMetrics}')\n",
        "    model.load_state_dict(torch.load('tut1-model.pt'))\n",
        "    test_loss, test_acc,test_allMetrics= evaluate(model, test_iterator, criterion)\n",
        "    print(f'Test Loss: {test_loss:.3f} | Test Acc: {test_acc*100:.2f} | Test All Metrics:{train_allMetrics}')\n",
        "    Epoch.append(epoch)\n",
        "    train_lossList.append(train_loss)\n",
        "    valid_lossList.append(valid_loss)\n",
        "    test_lossList.append(test_loss)\n",
        "    train_accList.append(train_acc*100)\n",
        "    valid_accList.append(valid_acc*100)\n",
        "    test_accList.append(test_acc*100)\n",
        "\n",
        "    train_aucList.append(train_allMetrics['AUC'].cpu().numpy())\n",
        "    valid_aucList.append(valid_allMetrics['AUC'].cpu().numpy())\n",
        "    test_aucList.append(test_allMetrics['AUC'].cpu().numpy())\n",
        "    train_auCuList.append(train_allMetrics['AUCR'].cpu().numpy())\n",
        "    valid_auCuList.append(valid_allMetrics['AUCR'].cpu().numpy())\n",
        "    test_auCuList.append(test_allMetrics['AUCR'].cpu().numpy())\n",
        "    train_F1List.append(train_allMetrics['F1'].cpu().numpy())\n",
        "    valid_F1List.append(valid_allMetrics['F1'].cpu().numpy())\n",
        "    test_F1List.append(test_allMetrics['F1'].cpu().numpy())\n",
        "    train_PreList.append(train_allMetrics['Precision'].cpu().numpy())\n",
        "    valid_PreList.append(valid_allMetrics['Precision'].cpu().numpy())\n",
        "    test_PreList.append(test_allMetrics['Precision'].cpu().numpy())\n",
        "    train_RecallList.append(train_allMetrics['Recall'].cpu().numpy())\n",
        "    valid_RecallList.append(valid_allMetrics['Recall'].cpu().numpy())\n",
        "    test_RecallList.append(test_allMetrics['Recall'].cpu().numpy())\n",
        "dfData.insert(0, 'Epoch', Epoch)\n",
        "dfData.insert(1, 'train_loss_', train_lossList)\n",
        "dfData.insert(2, 'valid_loss_', valid_lossList)\n",
        "dfData.insert(3, 'test_loss_', test_lossList)\n",
        "dfData.insert(4, 'train_acc_', train_accList)\n",
        "dfData.insert(5, 'valid_acc_', valid_accList)\n",
        "dfData.insert(6, 'test_acc_', test_accList)\n",
        "dfData.insert(7, 'train_auc_', train_aucList)\n",
        "dfData.insert(8, 'valid_auc_', valid_aucList)\n",
        "dfData.insert(9, 'test_auc_', test_aucList)\n",
        "dfData.insert(10, 'train_AUCR_', train_auCuList)\n",
        "dfData.insert(11, 'valid_AUCR_', valid_auCuList)\n",
        "dfData.insert(12, 'test_AUCR_', test_F1List)\n",
        "dfData.insert(13, 'train_F1_', train_F1List)\n",
        "dfData.insert(14, 'valid_F1_', valid_F1List)\n",
        "dfData.insert(15, 'test_F1_', test_auCuList)\n",
        "dfData.insert(16, 'train_Precision_', train_PreList)\n",
        "dfData.insert(17, 'valid_Precision_', valid_PreList)\n",
        "dfData.insert(18, 'test_Precision_', test_PreList)\n",
        "dfData.insert(19, 'train_Recall_', train_RecallList)\n",
        "dfData.insert(20, 'valid_Recall_', valid_RecallList)\n",
        "dfData.insert(21, 'test_Recall_', test_RecallList)\n",
        "\n",
        ""
      ]
    },
    {
      "cell_type": "code",
      "execution_count": null,
      "metadata": {
        "id": "47bA30UAmOfZ"
      },
      "outputs": [],
      "source": [
        "pip install xlsxwriter"
      ]
    },
    {
      "cell_type": "code",
      "execution_count": null,
      "metadata": {
        "id": "-_wpJo_DmW1n"
      },
      "outputs": [],
      "source": [
        "writer.close()\n",
        "dfData.head()"
      ]
    },
    {
      "cell_type": "code",
      "execution_count": null,
      "metadata": {
        "id": "J09-U1FfmZqX"
      },
      "outputs": [],
      "source": [
        "from datetime import datetime\n",
        "import xlsxwriter\n",
        "from xlrd import open_workbook\n",
        "import openpyxl\n",
        "import xlwt\n",
        "import os.path\n",
        "filename=datetime.now().strftime(\"%d-%b-%Y\")+\".xlsx\"\n",
        "sheetName=datetime.now().strftime(\"%H-%M-%S\")\n",
        "workbook = xlsxwriter.Workbook(pathResutlts + filename)\n",
        "if os.path.isfile(pathResutlts+filename):\n",
        "    print('old file')\n",
        "    ExcelWorkbook = openpyxl.load_workbook(pathResutlts+filename)\n",
        "\n",
        "    # Generating the writer engine\n",
        "    writer = pd.ExcelWriter(pathResutlts+filename, engine = 'openpyxl')\n",
        "\n",
        "    # Assigning the workbook to the writer engine\n",
        "    writer.book = ExcelWorkbook\n",
        "\n",
        "    dfData.to_excel(writer, sheet_name = sheetName)\n",
        "\n",
        "    writer.save()\n",
        "else:\n",
        "\n",
        "    # saving the excel\n",
        "    dfData.to_excel(pathResutlts+filename,sheet_name=sheetName)\n",
        "    print('DataFrame is written to Excel File successfully.')\n",
        "\n",
        ""
      ]
    }
  ],
  "metadata": {
    "accelerator": "GPU",
    "colab": {
      "machine_shape": "hm",
      "provenance": [],
      "include_colab_link": true
    },
    "kernelspec": {
      "display_name": "Python 3",
      "name": "python3"
    },
    "language_info": {
      "name": "python"
    },
    "widgets": {
      "application/vnd.jupyter.widget-state+json": {
        "01944ae2025540cb8ddc7c475afefd57": {
          "model_module": "@jupyter-widgets/controls",
          "model_module_version": "1.5.0",
          "model_name": "DescriptionStyleModel",
          "state": {
            "_model_module": "@jupyter-widgets/controls",
            "_model_module_version": "1.5.0",
            "_model_name": "DescriptionStyleModel",
            "_view_count": null,
            "_view_module": "@jupyter-widgets/base",
            "_view_module_version": "1.2.0",
            "_view_name": "StyleView",
            "description_width": ""
          }
        },
        "04d51ff3ed624cf5a743cce696d77c3e": {
          "model_module": "@jupyter-widgets/controls",
          "model_module_version": "1.5.0",
          "model_name": "ProgressStyleModel",
          "state": {
            "_model_module": "@jupyter-widgets/controls",
            "_model_module_version": "1.5.0",
            "_model_name": "ProgressStyleModel",
            "_view_count": null,
            "_view_module": "@jupyter-widgets/base",
            "_view_module_version": "1.2.0",
            "_view_name": "StyleView",
            "bar_color": null,
            "description_width": ""
          }
        },
        "0bd8bf2233be451db6e79c9e866d5061": {
          "model_module": "@jupyter-widgets/base",
          "model_module_version": "1.2.0",
          "model_name": "LayoutModel",
          "state": {
            "_model_module": "@jupyter-widgets/base",
            "_model_module_version": "1.2.0",
            "_model_name": "LayoutModel",
            "_view_count": null,
            "_view_module": "@jupyter-widgets/base",
            "_view_module_version": "1.2.0",
            "_view_name": "LayoutView",
            "align_content": null,
            "align_items": null,
            "align_self": null,
            "border": null,
            "bottom": null,
            "display": null,
            "flex": null,
            "flex_flow": null,
            "grid_area": null,
            "grid_auto_columns": null,
            "grid_auto_flow": null,
            "grid_auto_rows": null,
            "grid_column": null,
            "grid_gap": null,
            "grid_row": null,
            "grid_template_areas": null,
            "grid_template_columns": null,
            "grid_template_rows": null,
            "height": null,
            "justify_content": null,
            "justify_items": null,
            "left": null,
            "margin": null,
            "max_height": null,
            "max_width": null,
            "min_height": null,
            "min_width": null,
            "object_fit": null,
            "object_position": null,
            "order": null,
            "overflow": null,
            "overflow_x": null,
            "overflow_y": null,
            "padding": null,
            "right": null,
            "top": null,
            "visibility": null,
            "width": null
          }
        },
        "0e7be3cdcebb49a2ba770b8815380ff3": {
          "model_module": "@jupyter-widgets/base",
          "model_module_version": "1.2.0",
          "model_name": "LayoutModel",
          "state": {
            "_model_module": "@jupyter-widgets/base",
            "_model_module_version": "1.2.0",
            "_model_name": "LayoutModel",
            "_view_count": null,
            "_view_module": "@jupyter-widgets/base",
            "_view_module_version": "1.2.0",
            "_view_name": "LayoutView",
            "align_content": null,
            "align_items": null,
            "align_self": null,
            "border": null,
            "bottom": null,
            "display": null,
            "flex": null,
            "flex_flow": null,
            "grid_area": null,
            "grid_auto_columns": null,
            "grid_auto_flow": null,
            "grid_auto_rows": null,
            "grid_column": null,
            "grid_gap": null,
            "grid_row": null,
            "grid_template_areas": null,
            "grid_template_columns": null,
            "grid_template_rows": null,
            "height": null,
            "justify_content": null,
            "justify_items": null,
            "left": null,
            "margin": null,
            "max_height": null,
            "max_width": null,
            "min_height": null,
            "min_width": null,
            "object_fit": null,
            "object_position": null,
            "order": null,
            "overflow": null,
            "overflow_x": null,
            "overflow_y": null,
            "padding": null,
            "right": null,
            "top": null,
            "visibility": null,
            "width": null
          }
        },
        "193d389645124345962026e58a58ad8c": {
          "model_module": "@jupyter-widgets/base",
          "model_module_version": "1.2.0",
          "model_name": "LayoutModel",
          "state": {
            "_model_module": "@jupyter-widgets/base",
            "_model_module_version": "1.2.0",
            "_model_name": "LayoutModel",
            "_view_count": null,
            "_view_module": "@jupyter-widgets/base",
            "_view_module_version": "1.2.0",
            "_view_name": "LayoutView",
            "align_content": null,
            "align_items": null,
            "align_self": null,
            "border": null,
            "bottom": null,
            "display": null,
            "flex": null,
            "flex_flow": null,
            "grid_area": null,
            "grid_auto_columns": null,
            "grid_auto_flow": null,
            "grid_auto_rows": null,
            "grid_column": null,
            "grid_gap": null,
            "grid_row": null,
            "grid_template_areas": null,
            "grid_template_columns": null,
            "grid_template_rows": null,
            "height": null,
            "justify_content": null,
            "justify_items": null,
            "left": null,
            "margin": null,
            "max_height": null,
            "max_width": null,
            "min_height": null,
            "min_width": null,
            "object_fit": null,
            "object_position": null,
            "order": null,
            "overflow": null,
            "overflow_x": null,
            "overflow_y": null,
            "padding": null,
            "right": null,
            "top": null,
            "visibility": null,
            "width": null
          }
        },
        "273bc252c9244d18a87fce5312c23b23": {
          "model_module": "@jupyter-widgets/controls",
          "model_module_version": "1.5.0",
          "model_name": "HBoxModel",
          "state": {
            "_dom_classes": [],
            "_model_module": "@jupyter-widgets/controls",
            "_model_module_version": "1.5.0",
            "_model_name": "HBoxModel",
            "_view_count": null,
            "_view_module": "@jupyter-widgets/controls",
            "_view_module_version": "1.5.0",
            "_view_name": "HBoxView",
            "box_style": "",
            "children": [
              "IPY_MODEL_6c956a96d8804479a5c435ea0ce299ff",
              "IPY_MODEL_fe19ea26ff024822b0ddba8074159d95",
              "IPY_MODEL_97f56d5919b84ca396571fcf84d8405b"
            ],
            "layout": "IPY_MODEL_abe2964976854f9b8d9c0e97182eff4f"
          }
        },
        "2d36037e60884229adc339a1026733c2": {
          "model_module": "@jupyter-widgets/base",
          "model_module_version": "1.2.0",
          "model_name": "LayoutModel",
          "state": {
            "_model_module": "@jupyter-widgets/base",
            "_model_module_version": "1.2.0",
            "_model_name": "LayoutModel",
            "_view_count": null,
            "_view_module": "@jupyter-widgets/base",
            "_view_module_version": "1.2.0",
            "_view_name": "LayoutView",
            "align_content": null,
            "align_items": null,
            "align_self": null,
            "border": null,
            "bottom": null,
            "display": null,
            "flex": null,
            "flex_flow": null,
            "grid_area": null,
            "grid_auto_columns": null,
            "grid_auto_flow": null,
            "grid_auto_rows": null,
            "grid_column": null,
            "grid_gap": null,
            "grid_row": null,
            "grid_template_areas": null,
            "grid_template_columns": null,
            "grid_template_rows": null,
            "height": null,
            "justify_content": null,
            "justify_items": null,
            "left": null,
            "margin": null,
            "max_height": null,
            "max_width": null,
            "min_height": null,
            "min_width": null,
            "object_fit": null,
            "object_position": null,
            "order": null,
            "overflow": null,
            "overflow_x": null,
            "overflow_y": null,
            "padding": null,
            "right": null,
            "top": null,
            "visibility": null,
            "width": null
          }
        },
        "3986ae01045a4b1eb58fa2adcd6270e0": {
          "model_module": "@jupyter-widgets/controls",
          "model_module_version": "1.5.0",
          "model_name": "HTMLModel",
          "state": {
            "_dom_classes": [],
            "_model_module": "@jupyter-widgets/controls",
            "_model_module_version": "1.5.0",
            "_model_name": "HTMLModel",
            "_view_count": null,
            "_view_module": "@jupyter-widgets/controls",
            "_view_module_version": "1.5.0",
            "_view_name": "HTMLView",
            "description": "",
            "description_tooltip": null,
            "layout": "IPY_MODEL_591140bf786547cc9e17eaf560d8f2c4",
            "placeholder": "​",
            "style": "IPY_MODEL_01944ae2025540cb8ddc7c475afefd57",
            "value": " 570/570 [00:00&lt;00:00, 10.8kB/s]"
          }
        },
        "3bf93f07b6804bc38e1c0d6abb78419b": {
          "model_module": "@jupyter-widgets/controls",
          "model_module_version": "1.5.0",
          "model_name": "FloatProgressModel",
          "state": {
            "_dom_classes": [],
            "_model_module": "@jupyter-widgets/controls",
            "_model_module_version": "1.5.0",
            "_model_name": "FloatProgressModel",
            "_view_count": null,
            "_view_module": "@jupyter-widgets/controls",
            "_view_module_version": "1.5.0",
            "_view_name": "ProgressView",
            "bar_style": "success",
            "description": "",
            "description_tooltip": null,
            "layout": "IPY_MODEL_965304991ea94b9da975815643feebb5",
            "max": 231508,
            "min": 0,
            "orientation": "horizontal",
            "style": "IPY_MODEL_5b2e82b834ac4976a6e6ec5fd55f47a0",
            "value": 231508
          }
        },
        "3cfa3caa0eec46d18d327621aa658b2c": {
          "model_module": "@jupyter-widgets/base",
          "model_module_version": "1.2.0",
          "model_name": "LayoutModel",
          "state": {
            "_model_module": "@jupyter-widgets/base",
            "_model_module_version": "1.2.0",
            "_model_name": "LayoutModel",
            "_view_count": null,
            "_view_module": "@jupyter-widgets/base",
            "_view_module_version": "1.2.0",
            "_view_name": "LayoutView",
            "align_content": null,
            "align_items": null,
            "align_self": null,
            "border": null,
            "bottom": null,
            "display": null,
            "flex": null,
            "flex_flow": null,
            "grid_area": null,
            "grid_auto_columns": null,
            "grid_auto_flow": null,
            "grid_auto_rows": null,
            "grid_column": null,
            "grid_gap": null,
            "grid_row": null,
            "grid_template_areas": null,
            "grid_template_columns": null,
            "grid_template_rows": null,
            "height": null,
            "justify_content": null,
            "justify_items": null,
            "left": null,
            "margin": null,
            "max_height": null,
            "max_width": null,
            "min_height": null,
            "min_width": null,
            "object_fit": null,
            "object_position": null,
            "order": null,
            "overflow": null,
            "overflow_x": null,
            "overflow_y": null,
            "padding": null,
            "right": null,
            "top": null,
            "visibility": null,
            "width": null
          }
        },
        "56313a4ff796414eb62032d1bd86adb3": {
          "model_module": "@jupyter-widgets/base",
          "model_module_version": "1.2.0",
          "model_name": "LayoutModel",
          "state": {
            "_model_module": "@jupyter-widgets/base",
            "_model_module_version": "1.2.0",
            "_model_name": "LayoutModel",
            "_view_count": null,
            "_view_module": "@jupyter-widgets/base",
            "_view_module_version": "1.2.0",
            "_view_name": "LayoutView",
            "align_content": null,
            "align_items": null,
            "align_self": null,
            "border": null,
            "bottom": null,
            "display": null,
            "flex": null,
            "flex_flow": null,
            "grid_area": null,
            "grid_auto_columns": null,
            "grid_auto_flow": null,
            "grid_auto_rows": null,
            "grid_column": null,
            "grid_gap": null,
            "grid_row": null,
            "grid_template_areas": null,
            "grid_template_columns": null,
            "grid_template_rows": null,
            "height": null,
            "justify_content": null,
            "justify_items": null,
            "left": null,
            "margin": null,
            "max_height": null,
            "max_width": null,
            "min_height": null,
            "min_width": null,
            "object_fit": null,
            "object_position": null,
            "order": null,
            "overflow": null,
            "overflow_x": null,
            "overflow_y": null,
            "padding": null,
            "right": null,
            "top": null,
            "visibility": null,
            "width": null
          }
        },
        "591140bf786547cc9e17eaf560d8f2c4": {
          "model_module": "@jupyter-widgets/base",
          "model_module_version": "1.2.0",
          "model_name": "LayoutModel",
          "state": {
            "_model_module": "@jupyter-widgets/base",
            "_model_module_version": "1.2.0",
            "_model_name": "LayoutModel",
            "_view_count": null,
            "_view_module": "@jupyter-widgets/base",
            "_view_module_version": "1.2.0",
            "_view_name": "LayoutView",
            "align_content": null,
            "align_items": null,
            "align_self": null,
            "border": null,
            "bottom": null,
            "display": null,
            "flex": null,
            "flex_flow": null,
            "grid_area": null,
            "grid_auto_columns": null,
            "grid_auto_flow": null,
            "grid_auto_rows": null,
            "grid_column": null,
            "grid_gap": null,
            "grid_row": null,
            "grid_template_areas": null,
            "grid_template_columns": null,
            "grid_template_rows": null,
            "height": null,
            "justify_content": null,
            "justify_items": null,
            "left": null,
            "margin": null,
            "max_height": null,
            "max_width": null,
            "min_height": null,
            "min_width": null,
            "object_fit": null,
            "object_position": null,
            "order": null,
            "overflow": null,
            "overflow_x": null,
            "overflow_y": null,
            "padding": null,
            "right": null,
            "top": null,
            "visibility": null,
            "width": null
          }
        },
        "5a965f2cb7b6449c830eb52e8d907fb0": {
          "model_module": "@jupyter-widgets/controls",
          "model_module_version": "1.5.0",
          "model_name": "HTMLModel",
          "state": {
            "_dom_classes": [],
            "_model_module": "@jupyter-widgets/controls",
            "_model_module_version": "1.5.0",
            "_model_name": "HTMLModel",
            "_view_count": null,
            "_view_module": "@jupyter-widgets/controls",
            "_view_module_version": "1.5.0",
            "_view_name": "HTMLView",
            "description": "",
            "description_tooltip": null,
            "layout": "IPY_MODEL_d46600864db84c538175453f7a30deff",
            "placeholder": "​",
            "style": "IPY_MODEL_e56a3e2cb6874f01a0545883ab5f56ef",
            "value": "Downloading: 100%"
          }
        },
        "5b2e82b834ac4976a6e6ec5fd55f47a0": {
          "model_module": "@jupyter-widgets/controls",
          "model_module_version": "1.5.0",
          "model_name": "ProgressStyleModel",
          "state": {
            "_model_module": "@jupyter-widgets/controls",
            "_model_module_version": "1.5.0",
            "_model_name": "ProgressStyleModel",
            "_view_count": null,
            "_view_module": "@jupyter-widgets/base",
            "_view_module_version": "1.2.0",
            "_view_name": "StyleView",
            "bar_color": null,
            "description_width": ""
          }
        },
        "608079fdb6964c72855ba1d06aa57811": {
          "model_module": "@jupyter-widgets/controls",
          "model_module_version": "1.5.0",
          "model_name": "ProgressStyleModel",
          "state": {
            "_model_module": "@jupyter-widgets/controls",
            "_model_module_version": "1.5.0",
            "_model_name": "ProgressStyleModel",
            "_view_count": null,
            "_view_module": "@jupyter-widgets/base",
            "_view_module_version": "1.2.0",
            "_view_name": "StyleView",
            "bar_color": null,
            "description_width": ""
          }
        },
        "6c956a96d8804479a5c435ea0ce299ff": {
          "model_module": "@jupyter-widgets/controls",
          "model_module_version": "1.5.0",
          "model_name": "HTMLModel",
          "state": {
            "_dom_classes": [],
            "_model_module": "@jupyter-widgets/controls",
            "_model_module_version": "1.5.0",
            "_model_name": "HTMLModel",
            "_view_count": null,
            "_view_module": "@jupyter-widgets/controls",
            "_view_module_version": "1.5.0",
            "_view_name": "HTMLView",
            "description": "",
            "description_tooltip": null,
            "layout": "IPY_MODEL_83b7d70f02fb405db8c326ed40bcc8e0",
            "placeholder": "​",
            "style": "IPY_MODEL_9e422aea4e8b46f0bb445a779f5ef55e",
            "value": "Downloading: 100%"
          }
        },
        "7665edcf77fd49319afc4f31edad5432": {
          "model_module": "@jupyter-widgets/base",
          "model_module_version": "1.2.0",
          "model_name": "LayoutModel",
          "state": {
            "_model_module": "@jupyter-widgets/base",
            "_model_module_version": "1.2.0",
            "_model_name": "LayoutModel",
            "_view_count": null,
            "_view_module": "@jupyter-widgets/base",
            "_view_module_version": "1.2.0",
            "_view_name": "LayoutView",
            "align_content": null,
            "align_items": null,
            "align_self": null,
            "border": null,
            "bottom": null,
            "display": null,
            "flex": null,
            "flex_flow": null,
            "grid_area": null,
            "grid_auto_columns": null,
            "grid_auto_flow": null,
            "grid_auto_rows": null,
            "grid_column": null,
            "grid_gap": null,
            "grid_row": null,
            "grid_template_areas": null,
            "grid_template_columns": null,
            "grid_template_rows": null,
            "height": null,
            "justify_content": null,
            "justify_items": null,
            "left": null,
            "margin": null,
            "max_height": null,
            "max_width": null,
            "min_height": null,
            "min_width": null,
            "object_fit": null,
            "object_position": null,
            "order": null,
            "overflow": null,
            "overflow_x": null,
            "overflow_y": null,
            "padding": null,
            "right": null,
            "top": null,
            "visibility": null,
            "width": null
          }
        },
        "82d02aff859c4f7c89c2087736866c75": {
          "model_module": "@jupyter-widgets/controls",
          "model_module_version": "1.5.0",
          "model_name": "HBoxModel",
          "state": {
            "_dom_classes": [],
            "_model_module": "@jupyter-widgets/controls",
            "_model_module_version": "1.5.0",
            "_model_name": "HBoxModel",
            "_view_count": null,
            "_view_module": "@jupyter-widgets/controls",
            "_view_module_version": "1.5.0",
            "_view_name": "HBoxView",
            "box_style": "",
            "children": [
              "IPY_MODEL_97efb17214c54bf39c4f67a3acb6c033",
              "IPY_MODEL_aba24baa66094bd3865aee2331d85cd7",
              "IPY_MODEL_3986ae01045a4b1eb58fa2adcd6270e0"
            ],
            "layout": "IPY_MODEL_193d389645124345962026e58a58ad8c"
          }
        },
        "83b7d70f02fb405db8c326ed40bcc8e0": {
          "model_module": "@jupyter-widgets/base",
          "model_module_version": "1.2.0",
          "model_name": "LayoutModel",
          "state": {
            "_model_module": "@jupyter-widgets/base",
            "_model_module_version": "1.2.0",
            "_model_name": "LayoutModel",
            "_view_count": null,
            "_view_module": "@jupyter-widgets/base",
            "_view_module_version": "1.2.0",
            "_view_name": "LayoutView",
            "align_content": null,
            "align_items": null,
            "align_self": null,
            "border": null,
            "bottom": null,
            "display": null,
            "flex": null,
            "flex_flow": null,
            "grid_area": null,
            "grid_auto_columns": null,
            "grid_auto_flow": null,
            "grid_auto_rows": null,
            "grid_column": null,
            "grid_gap": null,
            "grid_row": null,
            "grid_template_areas": null,
            "grid_template_columns": null,
            "grid_template_rows": null,
            "height": null,
            "justify_content": null,
            "justify_items": null,
            "left": null,
            "margin": null,
            "max_height": null,
            "max_width": null,
            "min_height": null,
            "min_width": null,
            "object_fit": null,
            "object_position": null,
            "order": null,
            "overflow": null,
            "overflow_x": null,
            "overflow_y": null,
            "padding": null,
            "right": null,
            "top": null,
            "visibility": null,
            "width": null
          }
        },
        "965304991ea94b9da975815643feebb5": {
          "model_module": "@jupyter-widgets/base",
          "model_module_version": "1.2.0",
          "model_name": "LayoutModel",
          "state": {
            "_model_module": "@jupyter-widgets/base",
            "_model_module_version": "1.2.0",
            "_model_name": "LayoutModel",
            "_view_count": null,
            "_view_module": "@jupyter-widgets/base",
            "_view_module_version": "1.2.0",
            "_view_name": "LayoutView",
            "align_content": null,
            "align_items": null,
            "align_self": null,
            "border": null,
            "bottom": null,
            "display": null,
            "flex": null,
            "flex_flow": null,
            "grid_area": null,
            "grid_auto_columns": null,
            "grid_auto_flow": null,
            "grid_auto_rows": null,
            "grid_column": null,
            "grid_gap": null,
            "grid_row": null,
            "grid_template_areas": null,
            "grid_template_columns": null,
            "grid_template_rows": null,
            "height": null,
            "justify_content": null,
            "justify_items": null,
            "left": null,
            "margin": null,
            "max_height": null,
            "max_width": null,
            "min_height": null,
            "min_width": null,
            "object_fit": null,
            "object_position": null,
            "order": null,
            "overflow": null,
            "overflow_x": null,
            "overflow_y": null,
            "padding": null,
            "right": null,
            "top": null,
            "visibility": null,
            "width": null
          }
        },
        "97efb17214c54bf39c4f67a3acb6c033": {
          "model_module": "@jupyter-widgets/controls",
          "model_module_version": "1.5.0",
          "model_name": "HTMLModel",
          "state": {
            "_dom_classes": [],
            "_model_module": "@jupyter-widgets/controls",
            "_model_module_version": "1.5.0",
            "_model_name": "HTMLModel",
            "_view_count": null,
            "_view_module": "@jupyter-widgets/controls",
            "_view_module_version": "1.5.0",
            "_view_name": "HTMLView",
            "description": "",
            "description_tooltip": null,
            "layout": "IPY_MODEL_3cfa3caa0eec46d18d327621aa658b2c",
            "placeholder": "​",
            "style": "IPY_MODEL_e20c9a0a942f415fa8a5b22dcb9f4ae6",
            "value": "Downloading: 100%"
          }
        },
        "97f56d5919b84ca396571fcf84d8405b": {
          "model_module": "@jupyter-widgets/controls",
          "model_module_version": "1.5.0",
          "model_name": "HTMLModel",
          "state": {
            "_dom_classes": [],
            "_model_module": "@jupyter-widgets/controls",
            "_model_module_version": "1.5.0",
            "_model_name": "HTMLModel",
            "_view_count": null,
            "_view_module": "@jupyter-widgets/controls",
            "_view_module_version": "1.5.0",
            "_view_name": "HTMLView",
            "description": "",
            "description_tooltip": null,
            "layout": "IPY_MODEL_0bd8bf2233be451db6e79c9e866d5061",
            "placeholder": "​",
            "style": "IPY_MODEL_a7b57c72605a4fb8870c8a5f1a352c96",
            "value": " 28.0/28.0 [00:00&lt;00:00, 835B/s]"
          }
        },
        "9e422aea4e8b46f0bb445a779f5ef55e": {
          "model_module": "@jupyter-widgets/controls",
          "model_module_version": "1.5.0",
          "model_name": "DescriptionStyleModel",
          "state": {
            "_model_module": "@jupyter-widgets/controls",
            "_model_module_version": "1.5.0",
            "_model_name": "DescriptionStyleModel",
            "_view_count": null,
            "_view_module": "@jupyter-widgets/base",
            "_view_module_version": "1.2.0",
            "_view_name": "StyleView",
            "description_width": ""
          }
        },
        "a7b57c72605a4fb8870c8a5f1a352c96": {
          "model_module": "@jupyter-widgets/controls",
          "model_module_version": "1.5.0",
          "model_name": "DescriptionStyleModel",
          "state": {
            "_model_module": "@jupyter-widgets/controls",
            "_model_module_version": "1.5.0",
            "_model_name": "DescriptionStyleModel",
            "_view_count": null,
            "_view_module": "@jupyter-widgets/base",
            "_view_module_version": "1.2.0",
            "_view_name": "StyleView",
            "description_width": ""
          }
        },
        "aba24baa66094bd3865aee2331d85cd7": {
          "model_module": "@jupyter-widgets/controls",
          "model_module_version": "1.5.0",
          "model_name": "FloatProgressModel",
          "state": {
            "_dom_classes": [],
            "_model_module": "@jupyter-widgets/controls",
            "_model_module_version": "1.5.0",
            "_model_name": "FloatProgressModel",
            "_view_count": null,
            "_view_module": "@jupyter-widgets/controls",
            "_view_module_version": "1.5.0",
            "_view_name": "ProgressView",
            "bar_style": "success",
            "description": "",
            "description_tooltip": null,
            "layout": "IPY_MODEL_7665edcf77fd49319afc4f31edad5432",
            "max": 570,
            "min": 0,
            "orientation": "horizontal",
            "style": "IPY_MODEL_608079fdb6964c72855ba1d06aa57811",
            "value": 570
          }
        },
        "abe2964976854f9b8d9c0e97182eff4f": {
          "model_module": "@jupyter-widgets/base",
          "model_module_version": "1.2.0",
          "model_name": "LayoutModel",
          "state": {
            "_model_module": "@jupyter-widgets/base",
            "_model_module_version": "1.2.0",
            "_model_name": "LayoutModel",
            "_view_count": null,
            "_view_module": "@jupyter-widgets/base",
            "_view_module_version": "1.2.0",
            "_view_name": "LayoutView",
            "align_content": null,
            "align_items": null,
            "align_self": null,
            "border": null,
            "bottom": null,
            "display": null,
            "flex": null,
            "flex_flow": null,
            "grid_area": null,
            "grid_auto_columns": null,
            "grid_auto_flow": null,
            "grid_auto_rows": null,
            "grid_column": null,
            "grid_gap": null,
            "grid_row": null,
            "grid_template_areas": null,
            "grid_template_columns": null,
            "grid_template_rows": null,
            "height": null,
            "justify_content": null,
            "justify_items": null,
            "left": null,
            "margin": null,
            "max_height": null,
            "max_width": null,
            "min_height": null,
            "min_width": null,
            "object_fit": null,
            "object_position": null,
            "order": null,
            "overflow": null,
            "overflow_x": null,
            "overflow_y": null,
            "padding": null,
            "right": null,
            "top": null,
            "visibility": null,
            "width": null
          }
        },
        "b57666e3c8b44d3e97d7ff1259bc99f0": {
          "model_module": "@jupyter-widgets/controls",
          "model_module_version": "1.5.0",
          "model_name": "DescriptionStyleModel",
          "state": {
            "_model_module": "@jupyter-widgets/controls",
            "_model_module_version": "1.5.0",
            "_model_name": "DescriptionStyleModel",
            "_view_count": null,
            "_view_module": "@jupyter-widgets/base",
            "_view_module_version": "1.2.0",
            "_view_name": "StyleView",
            "description_width": ""
          }
        },
        "b997054fa3e74d69a4df7019aa438c0d": {
          "model_module": "@jupyter-widgets/controls",
          "model_module_version": "1.5.0",
          "model_name": "HBoxModel",
          "state": {
            "_dom_classes": [],
            "_model_module": "@jupyter-widgets/controls",
            "_model_module_version": "1.5.0",
            "_model_name": "HBoxModel",
            "_view_count": null,
            "_view_module": "@jupyter-widgets/controls",
            "_view_module_version": "1.5.0",
            "_view_name": "HBoxView",
            "box_style": "",
            "children": [
              "IPY_MODEL_5a965f2cb7b6449c830eb52e8d907fb0",
              "IPY_MODEL_3bf93f07b6804bc38e1c0d6abb78419b",
              "IPY_MODEL_f99b651680ad4f118ffbc546a39cb361"
            ],
            "layout": "IPY_MODEL_56313a4ff796414eb62032d1bd86adb3"
          }
        },
        "d46600864db84c538175453f7a30deff": {
          "model_module": "@jupyter-widgets/base",
          "model_module_version": "1.2.0",
          "model_name": "LayoutModel",
          "state": {
            "_model_module": "@jupyter-widgets/base",
            "_model_module_version": "1.2.0",
            "_model_name": "LayoutModel",
            "_view_count": null,
            "_view_module": "@jupyter-widgets/base",
            "_view_module_version": "1.2.0",
            "_view_name": "LayoutView",
            "align_content": null,
            "align_items": null,
            "align_self": null,
            "border": null,
            "bottom": null,
            "display": null,
            "flex": null,
            "flex_flow": null,
            "grid_area": null,
            "grid_auto_columns": null,
            "grid_auto_flow": null,
            "grid_auto_rows": null,
            "grid_column": null,
            "grid_gap": null,
            "grid_row": null,
            "grid_template_areas": null,
            "grid_template_columns": null,
            "grid_template_rows": null,
            "height": null,
            "justify_content": null,
            "justify_items": null,
            "left": null,
            "margin": null,
            "max_height": null,
            "max_width": null,
            "min_height": null,
            "min_width": null,
            "object_fit": null,
            "object_position": null,
            "order": null,
            "overflow": null,
            "overflow_x": null,
            "overflow_y": null,
            "padding": null,
            "right": null,
            "top": null,
            "visibility": null,
            "width": null
          }
        },
        "e20c9a0a942f415fa8a5b22dcb9f4ae6": {
          "model_module": "@jupyter-widgets/controls",
          "model_module_version": "1.5.0",
          "model_name": "DescriptionStyleModel",
          "state": {
            "_model_module": "@jupyter-widgets/controls",
            "_model_module_version": "1.5.0",
            "_model_name": "DescriptionStyleModel",
            "_view_count": null,
            "_view_module": "@jupyter-widgets/base",
            "_view_module_version": "1.2.0",
            "_view_name": "StyleView",
            "description_width": ""
          }
        },
        "e56a3e2cb6874f01a0545883ab5f56ef": {
          "model_module": "@jupyter-widgets/controls",
          "model_module_version": "1.5.0",
          "model_name": "DescriptionStyleModel",
          "state": {
            "_model_module": "@jupyter-widgets/controls",
            "_model_module_version": "1.5.0",
            "_model_name": "DescriptionStyleModel",
            "_view_count": null,
            "_view_module": "@jupyter-widgets/base",
            "_view_module_version": "1.2.0",
            "_view_name": "StyleView",
            "description_width": ""
          }
        },
        "f99b651680ad4f118ffbc546a39cb361": {
          "model_module": "@jupyter-widgets/controls",
          "model_module_version": "1.5.0",
          "model_name": "HTMLModel",
          "state": {
            "_dom_classes": [],
            "_model_module": "@jupyter-widgets/controls",
            "_model_module_version": "1.5.0",
            "_model_name": "HTMLModel",
            "_view_count": null,
            "_view_module": "@jupyter-widgets/controls",
            "_view_module_version": "1.5.0",
            "_view_name": "HTMLView",
            "description": "",
            "description_tooltip": null,
            "layout": "IPY_MODEL_0e7be3cdcebb49a2ba770b8815380ff3",
            "placeholder": "​",
            "style": "IPY_MODEL_b57666e3c8b44d3e97d7ff1259bc99f0",
            "value": " 226k/226k [00:00&lt;00:00, 631kB/s]"
          }
        },
        "fe19ea26ff024822b0ddba8074159d95": {
          "model_module": "@jupyter-widgets/controls",
          "model_module_version": "1.5.0",
          "model_name": "FloatProgressModel",
          "state": {
            "_dom_classes": [],
            "_model_module": "@jupyter-widgets/controls",
            "_model_module_version": "1.5.0",
            "_model_name": "FloatProgressModel",
            "_view_count": null,
            "_view_module": "@jupyter-widgets/controls",
            "_view_module_version": "1.5.0",
            "_view_name": "ProgressView",
            "bar_style": "success",
            "description": "",
            "description_tooltip": null,
            "layout": "IPY_MODEL_2d36037e60884229adc339a1026733c2",
            "max": 28,
            "min": 0,
            "orientation": "horizontal",
            "style": "IPY_MODEL_04d51ff3ed624cf5a743cce696d77c3e",
            "value": 28
          }
        }
      }
    }
  },
  "nbformat": 4,
  "nbformat_minor": 0
}