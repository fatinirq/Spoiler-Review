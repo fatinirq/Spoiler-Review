{
  "nbformat": 4,
  "nbformat_minor": 0,
  "metadata": {
    "colab": {
      "provenance": [],
      "machine_shape": "hm",
      "authorship_tag": "ABX9TyMRppqwwo7U7r7H6p+1tOCV",
      "include_colab_link": true
    },
    "kernelspec": {
      "name": "python3",
      "display_name": "Python 3"
    },
    "language_info": {
      "name": "python"
    },
    "accelerator": "GPU",
    "gpuClass": "standard"
  },
  "cells": [
    {
      "cell_type": "markdown",
      "metadata": {
        "id": "view-in-github",
        "colab_type": "text"
      },
      "source": [
        "<a href=\"https://colab.research.google.com/github/fatinirq/Spoiler-Review/blob/main/LDA.ipynb\" target=\"_parent\"><img src=\"https://colab.research.google.com/assets/colab-badge.svg\" alt=\"Open In Colab\"/></a>"
      ]
    },
    {
      "cell_type": "code",
      "execution_count": null,
      "metadata": {
        "id": "mpc3saAepPtz",
        "colab": {
          "base_uri": "https://localhost:8080/"
        },
        "outputId": "60a027cf-ad34-423c-c39b-7613aac7f823"
      },
      "outputs": [
        {
          "output_type": "stream",
          "name": "stdout",
          "text": [
            "Drive already mounted at /content/drive; to attempt to forcibly remount, call drive.mount(\"/content/drive\", force_remount=True).\n"
          ]
        }
      ],
      "source": [
        "from google.colab import drive\n",
        "drive.mount('/content/drive')"
      ]
    },
    {
      "cell_type": "code",
      "source": [
        "!pip install torchtext==0.10.0"
      ],
      "metadata": {
        "colab": {
          "base_uri": "https://localhost:8080/"
        },
        "id": "EU5hsJqaFy9F",
        "outputId": "c5ecbffd-7ecc-4ad7-cb61-6488d7becfd6"
      },
      "execution_count": null,
      "outputs": [
        {
          "output_type": "stream",
          "name": "stdout",
          "text": [
            "Looking in indexes: https://pypi.org/simple, https://us-python.pkg.dev/colab-wheels/public/simple/\n",
            "Requirement already satisfied: torchtext==0.10.0 in /usr/local/lib/python3.7/dist-packages (0.10.0)\n",
            "Requirement already satisfied: torch==1.9.0 in /usr/local/lib/python3.7/dist-packages (from torchtext==0.10.0) (1.9.0)\n",
            "Requirement already satisfied: requests in /usr/local/lib/python3.7/dist-packages (from torchtext==0.10.0) (2.23.0)\n",
            "Requirement already satisfied: tqdm in /usr/local/lib/python3.7/dist-packages (from torchtext==0.10.0) (4.64.0)\n",
            "Requirement already satisfied: numpy in /usr/local/lib/python3.7/dist-packages (from torchtext==0.10.0) (1.21.6)\n",
            "Requirement already satisfied: typing-extensions in /usr/local/lib/python3.7/dist-packages (from torch==1.9.0->torchtext==0.10.0) (4.1.1)\n",
            "Requirement already satisfied: certifi>=2017.4.17 in /usr/local/lib/python3.7/dist-packages (from requests->torchtext==0.10.0) (2022.6.15)\n",
            "Requirement already satisfied: urllib3!=1.25.0,!=1.25.1,<1.26,>=1.21.1 in /usr/local/lib/python3.7/dist-packages (from requests->torchtext==0.10.0) (1.24.3)\n",
            "Requirement already satisfied: chardet<4,>=3.0.2 in /usr/local/lib/python3.7/dist-packages (from requests->torchtext==0.10.0) (3.0.4)\n",
            "Requirement already satisfied: idna<3,>=2.5 in /usr/local/lib/python3.7/dist-packages (from requests->torchtext==0.10.0) (2.10)\n"
          ]
        }
      ]
    },
    {
      "cell_type": "code",
      "source": [
        "import json\n",
        "import spacy\n",
        "import pandas as pd\n",
        "from torchtext.legacy import data\n",
        "from torchtext.legacy.data import TabularDataset\n",
        "from sklearn.model_selection import train_test_split\n",
        "from updatedRNN_model import RNN\n",
        "import torch.nn as nn\n"
      ],
      "metadata": {
        "id": "RmIXW1SaiHH2"
      },
      "execution_count": null,
      "outputs": []
    },
    {
      "cell_type": "code",
      "source": [
        "data = pd.read_csv('/content/drive/MyDrive/SpoilerData/LDA_CData.csv')\n",
        "#data = [json.loads(line) for line in open('/content/drive/MyDrive/SpoilerData/CData.json', 'r')]\n",
        "df=pd.DataFrame(data)"
      ],
      "metadata": {
        "id": "9lBWDsnlg5Z-"
      },
      "execution_count": null,
      "outputs": []
    },
    {
      "cell_type": "code",
      "source": [
        "del data\n",
        "#sample = df.sample(frac=0.05)\n",
        "#print(sample)"
      ],
      "metadata": {
        "id": "JRqNF6hgt0Ou"
      },
      "execution_count": null,
      "outputs": []
    },
    {
      "cell_type": "code",
      "source": [
        "df['spoiled'].value_counts()"
      ],
      "metadata": {
        "colab": {
          "base_uri": "https://localhost:8080/"
        },
        "id": "GNlfML8BTGzw",
        "outputId": "9cb7d2ad-f7f3-4875-d05b-30b22284df7c"
      },
      "execution_count": null,
      "outputs": [
        {
          "output_type": "execute_result",
          "data": {
            "text/plain": [
              "0    17102931\n",
              "1      569724\n",
              "Name: spoiled, dtype: int64"
            ]
          },
          "metadata": {},
          "execution_count": 6
        }
      ]
    },
    {
      "cell_type": "code",
      "source": [
        "pd.show_versions()"
      ],
      "metadata": {
        "colab": {
          "base_uri": "https://localhost:8080/"
        },
        "id": "TnrVSiRqWYre",
        "outputId": "047543b5-c3f3-4575-ccde-27e128856b14"
      },
      "execution_count": null,
      "outputs": [
        {
          "output_type": "stream",
          "name": "stderr",
          "text": [
            "/usr/local/lib/python3.7/dist-packages/psycopg2/__init__.py:144: UserWarning: The psycopg2 wheel package will be renamed from release 2.8; in order to keep installing from binary please use \"pip install psycopg2-binary\" instead. For details see: <http://initd.org/psycopg/docs/install.html#binary-install-from-pypi>.\n",
            "  \"\"\")\n"
          ]
        },
        {
          "output_type": "stream",
          "name": "stdout",
          "text": [
            "\n",
            "INSTALLED VERSIONS\n",
            "------------------\n",
            "commit           : 66e3805b8cabe977f40c05259cc3fcf7ead5687d\n",
            "python           : 3.7.13.final.0\n",
            "python-bits      : 64\n",
            "OS               : Linux\n",
            "OS-release       : 5.4.188+\n",
            "Version          : #1 SMP Sun Apr 24 10:03:06 PDT 2022\n",
            "machine          : x86_64\n",
            "processor        : x86_64\n",
            "byteorder        : little\n",
            "LC_ALL           : None\n",
            "LANG             : en_US.UTF-8\n",
            "LOCALE           : en_US.UTF-8\n",
            "\n",
            "pandas           : 1.3.5\n",
            "numpy            : 1.21.6\n",
            "pytz             : 2022.1\n",
            "dateutil         : 2.8.2\n",
            "pip              : 21.1.3\n",
            "setuptools       : 57.4.0\n",
            "Cython           : 0.29.30\n",
            "pytest           : 3.6.4\n",
            "hypothesis       : None\n",
            "sphinx           : 1.8.6\n",
            "blosc            : None\n",
            "feather          : 0.4.1\n",
            "xlsxwriter       : None\n",
            "lxml.etree       : 4.2.6\n",
            "html5lib         : 1.0.1\n",
            "pymysql          : None\n",
            "psycopg2         : 2.7.6.1 (dt dec pq3 ext lo64)\n",
            "jinja2           : 2.11.3\n",
            "IPython          : 5.5.0\n",
            "pandas_datareader: 0.9.0\n",
            "bs4              : 4.6.3\n",
            "bottleneck       : None\n",
            "fsspec           : None\n",
            "fastparquet      : None\n",
            "gcsfs            : None\n",
            "matplotlib       : 3.2.2\n",
            "numexpr          : 2.8.3\n",
            "odfpy            : None\n",
            "openpyxl         : 3.0.10\n",
            "pandas_gbq       : 0.13.3\n",
            "pyarrow          : 6.0.1\n",
            "pyxlsb           : None\n",
            "s3fs             : None\n",
            "scipy            : 1.7.3\n",
            "sqlalchemy       : 1.4.39\n",
            "tables           : 3.7.0\n",
            "tabulate         : 0.8.10\n",
            "xarray           : 0.20.2\n",
            "xlrd             : 1.1.0\n",
            "xlwt             : 1.3.0\n",
            "numba            : 0.51.2\n"
          ]
        }
      ]
    },
    {
      "cell_type": "code",
      "source": [
        "import gensim\n",
        "from gensim.utils import simple_preprocess\n",
        "from gensim.parsing.preprocessing import STOPWORDS\n",
        "from nltk.stem import WordNetLemmatizer, SnowballStemmer\n",
        "from nltk.stem.porter import *\n",
        "import numpy as np\n",
        "np.random.seed(2018)"
      ],
      "metadata": {
        "id": "nG6QeAMzTQHU"
      },
      "execution_count": null,
      "outputs": []
    },
    {
      "cell_type": "markdown",
      "source": [
        "Applying code of this report [link text](https://towardsdatascience.com/topic-modeling-and-latent-dirichlet-allocation-in-python-9bf156893c24)"
      ],
      "metadata": {
        "id": "cGUhElDyunek"
      }
    },
    {
      "cell_type": "code",
      "source": [
        "def lemmatize_stemming(text):\n",
        "    return stemmer.stem(WordNetLemmatizer().lemmatize(text, pos='v'))\n",
        "def preprocess(text):\n",
        "    result = []\n",
        "    for token in gensim.utils.simple_preprocess(text):\n",
        "        if token not in gensim.parsing.preprocessing.STOPWORDS and len(token) > 3:\n",
        "           # result.append(lemmatize_stemming(token))\n",
        "           result.append(token)\n",
        "    return result"
      ],
      "metadata": {
        "id": "NIfBQMAeFcVp"
      },
      "execution_count": null,
      "outputs": []
    },
    {
      "cell_type": "code",
      "source": [
        "df['index'] = df.index"
      ],
      "metadata": {
        "id": "HPWx8YSDtU9U"
      },
      "execution_count": null,
      "outputs": []
    },
    {
      "cell_type": "code",
      "source": [
        "df.head()"
      ],
      "metadata": {
        "colab": {
          "base_uri": "https://localhost:8080/",
          "height": 320
        },
        "id": "jFtLPv2QtBnA",
        "outputId": "a55ca78f-09de-4711-d423-fa66fde5d443"
      },
      "execution_count": null,
      "outputs": [
        {
          "output_type": "execute_result",
          "data": {
            "text/plain": [
              "                                     review_sentence  spoiled  \\\n",
              "0                                ['special', 'book']        0   \n",
              "1  ['started', 'slow', 'first', 'third', 'middle'...        0   \n",
              "2  ['love', 'good', 'science', 'fiction', 'push',...        0   \n",
              "3  ['hugo', 'winner', 'translated', 'original', '...        0   \n",
              "4  ['instance', 'intermixing', 'chinese', 'revolu...        0   \n",
              "\n",
              "                          review_id  index  \n",
              "0  dfdbb7b0eb5a7e4c26d59a937e2e5feb      0  \n",
              "1  dfdbb7b0eb5a7e4c26d59a937e2e5feb      1  \n",
              "2  dfdbb7b0eb5a7e4c26d59a937e2e5feb      2  \n",
              "3  dfdbb7b0eb5a7e4c26d59a937e2e5feb      3  \n",
              "4  dfdbb7b0eb5a7e4c26d59a937e2e5feb      4  "
            ],
            "text/html": [
              "\n",
              "  <div id=\"df-cc78069e-9438-4355-af96-6fe5f21a8348\">\n",
              "    <div class=\"colab-df-container\">\n",
              "      <div>\n",
              "<style scoped>\n",
              "    .dataframe tbody tr th:only-of-type {\n",
              "        vertical-align: middle;\n",
              "    }\n",
              "\n",
              "    .dataframe tbody tr th {\n",
              "        vertical-align: top;\n",
              "    }\n",
              "\n",
              "    .dataframe thead th {\n",
              "        text-align: right;\n",
              "    }\n",
              "</style>\n",
              "<table border=\"1\" class=\"dataframe\">\n",
              "  <thead>\n",
              "    <tr style=\"text-align: right;\">\n",
              "      <th></th>\n",
              "      <th>review_sentence</th>\n",
              "      <th>spoiled</th>\n",
              "      <th>review_id</th>\n",
              "      <th>index</th>\n",
              "    </tr>\n",
              "  </thead>\n",
              "  <tbody>\n",
              "    <tr>\n",
              "      <th>0</th>\n",
              "      <td>['special', 'book']</td>\n",
              "      <td>0</td>\n",
              "      <td>dfdbb7b0eb5a7e4c26d59a937e2e5feb</td>\n",
              "      <td>0</td>\n",
              "    </tr>\n",
              "    <tr>\n",
              "      <th>1</th>\n",
              "      <td>['started', 'slow', 'first', 'third', 'middle'...</td>\n",
              "      <td>0</td>\n",
              "      <td>dfdbb7b0eb5a7e4c26d59a937e2e5feb</td>\n",
              "      <td>1</td>\n",
              "    </tr>\n",
              "    <tr>\n",
              "      <th>2</th>\n",
              "      <td>['love', 'good', 'science', 'fiction', 'push',...</td>\n",
              "      <td>0</td>\n",
              "      <td>dfdbb7b0eb5a7e4c26d59a937e2e5feb</td>\n",
              "      <td>2</td>\n",
              "    </tr>\n",
              "    <tr>\n",
              "      <th>3</th>\n",
              "      <td>['hugo', 'winner', 'translated', 'original', '...</td>\n",
              "      <td>0</td>\n",
              "      <td>dfdbb7b0eb5a7e4c26d59a937e2e5feb</td>\n",
              "      <td>3</td>\n",
              "    </tr>\n",
              "    <tr>\n",
              "      <th>4</th>\n",
              "      <td>['instance', 'intermixing', 'chinese', 'revolu...</td>\n",
              "      <td>0</td>\n",
              "      <td>dfdbb7b0eb5a7e4c26d59a937e2e5feb</td>\n",
              "      <td>4</td>\n",
              "    </tr>\n",
              "  </tbody>\n",
              "</table>\n",
              "</div>\n",
              "      <button class=\"colab-df-convert\" onclick=\"convertToInteractive('df-cc78069e-9438-4355-af96-6fe5f21a8348')\"\n",
              "              title=\"Convert this dataframe to an interactive table.\"\n",
              "              style=\"display:none;\">\n",
              "        \n",
              "  <svg xmlns=\"http://www.w3.org/2000/svg\" height=\"24px\"viewBox=\"0 0 24 24\"\n",
              "       width=\"24px\">\n",
              "    <path d=\"M0 0h24v24H0V0z\" fill=\"none\"/>\n",
              "    <path d=\"M18.56 5.44l.94 2.06.94-2.06 2.06-.94-2.06-.94-.94-2.06-.94 2.06-2.06.94zm-11 1L8.5 8.5l.94-2.06 2.06-.94-2.06-.94L8.5 2.5l-.94 2.06-2.06.94zm10 10l.94 2.06.94-2.06 2.06-.94-2.06-.94-.94-2.06-.94 2.06-2.06.94z\"/><path d=\"M17.41 7.96l-1.37-1.37c-.4-.4-.92-.59-1.43-.59-.52 0-1.04.2-1.43.59L10.3 9.45l-7.72 7.72c-.78.78-.78 2.05 0 2.83L4 21.41c.39.39.9.59 1.41.59.51 0 1.02-.2 1.41-.59l7.78-7.78 2.81-2.81c.8-.78.8-2.07 0-2.86zM5.41 20L4 18.59l7.72-7.72 1.47 1.35L5.41 20z\"/>\n",
              "  </svg>\n",
              "      </button>\n",
              "      \n",
              "  <style>\n",
              "    .colab-df-container {\n",
              "      display:flex;\n",
              "      flex-wrap:wrap;\n",
              "      gap: 12px;\n",
              "    }\n",
              "\n",
              "    .colab-df-convert {\n",
              "      background-color: #E8F0FE;\n",
              "      border: none;\n",
              "      border-radius: 50%;\n",
              "      cursor: pointer;\n",
              "      display: none;\n",
              "      fill: #1967D2;\n",
              "      height: 32px;\n",
              "      padding: 0 0 0 0;\n",
              "      width: 32px;\n",
              "    }\n",
              "\n",
              "    .colab-df-convert:hover {\n",
              "      background-color: #E2EBFA;\n",
              "      box-shadow: 0px 1px 2px rgba(60, 64, 67, 0.3), 0px 1px 3px 1px rgba(60, 64, 67, 0.15);\n",
              "      fill: #174EA6;\n",
              "    }\n",
              "\n",
              "    [theme=dark] .colab-df-convert {\n",
              "      background-color: #3B4455;\n",
              "      fill: #D2E3FC;\n",
              "    }\n",
              "\n",
              "    [theme=dark] .colab-df-convert:hover {\n",
              "      background-color: #434B5C;\n",
              "      box-shadow: 0px 1px 3px 1px rgba(0, 0, 0, 0.15);\n",
              "      filter: drop-shadow(0px 1px 2px rgba(0, 0, 0, 0.3));\n",
              "      fill: #FFFFFF;\n",
              "    }\n",
              "  </style>\n",
              "\n",
              "      <script>\n",
              "        const buttonEl =\n",
              "          document.querySelector('#df-cc78069e-9438-4355-af96-6fe5f21a8348 button.colab-df-convert');\n",
              "        buttonEl.style.display =\n",
              "          google.colab.kernel.accessAllowed ? 'block' : 'none';\n",
              "\n",
              "        async function convertToInteractive(key) {\n",
              "          const element = document.querySelector('#df-cc78069e-9438-4355-af96-6fe5f21a8348');\n",
              "          const dataTable =\n",
              "            await google.colab.kernel.invokeFunction('convertToInteractive',\n",
              "                                                     [key], {});\n",
              "          if (!dataTable) return;\n",
              "\n",
              "          const docLinkHtml = 'Like what you see? Visit the ' +\n",
              "            '<a target=\"_blank\" href=https://colab.research.google.com/notebooks/data_table.ipynb>data table notebook</a>'\n",
              "            + ' to learn more about interactive tables.';\n",
              "          element.innerHTML = '';\n",
              "          dataTable['output_type'] = 'display_data';\n",
              "          await google.colab.output.renderOutput(dataTable, element);\n",
              "          const docLink = document.createElement('div');\n",
              "          docLink.innerHTML = docLinkHtml;\n",
              "          element.appendChild(docLink);\n",
              "        }\n",
              "      </script>\n",
              "    </div>\n",
              "  </div>\n",
              "  "
            ]
          },
          "metadata": {},
          "execution_count": 11
        }
      ]
    },
    {
      "cell_type": "code",
      "source": [
        "\n",
        "doc_sample = df[df['index'] == 4310].values[0][0]\n",
        "print('original document: ')\n",
        "words = []\n",
        "for word in doc_sample.split(' '):\n",
        "    words.append(word)\n",
        "print(words)\n",
        "print('\\n\\n tokenized and lemmatized document: ')\n",
        "print(preprocess(doc_sample))"
      ],
      "metadata": {
        "colab": {
          "base_uri": "https://localhost:8080/"
        },
        "id": "dgNwPdILurbj",
        "outputId": "2afc234e-000b-4d2a-fc2d-333604ea164f"
      },
      "execution_count": null,
      "outputs": [
        {
          "output_type": "stream",
          "name": "stdout",
          "text": [
            "original document: \n",
            "[\"['emotion',\", \"'sexual',\", \"'tension',\", \"'heartbreak',\", \"'packed',\", \"'book',\", \"'many',\", \"'book',\", \"'twice',\", \"'size']\"]\n",
            "\n",
            "\n",
            " tokenized and lemmatized document: \n",
            "['emotion', 'sexual', 'tension', 'heartbreak', 'packed', 'book', 'book', 'twice', 'size']\n"
          ]
        }
      ]
    },
    {
      "cell_type": "code",
      "source": [
        "processed_docs = df['review_sentence'].map(preprocess)\n",
        "processed_docs[:10]"
      ],
      "metadata": {
        "colab": {
          "base_uri": "https://localhost:8080/"
        },
        "id": "PVwqCEWI4QAc",
        "outputId": "18aead7a-5788-46a5-edf2-d6bd51d547df"
      },
      "execution_count": null,
      "outputs": [
        {
          "output_type": "execute_result",
          "data": {
            "text/plain": [
              "0                                      [special, book]\n",
              "1    [started, slow, middle, started, interesting, ...\n",
              "2    [love, good, science, fiction, push, thinking,...\n",
              "3    [hugo, winner, translated, original, chinese, ...\n",
              "4    [instance, intermixing, chinese, revolutionary...\n",
              "5                               [book, science, alien]\n",
              "6    [science, described, book, impressive, book, g...\n",
              "7    [folding, proton, dimension, think, making, st...\n",
              "8    [happen, seti, station, received, message, per...\n",
              "9    [book, dark, like, think, human, reaction, dis...\n",
              "Name: review_sentence, dtype: object"
            ]
          },
          "metadata": {},
          "execution_count": 13
        }
      ]
    },
    {
      "cell_type": "markdown",
      "source": [],
      "metadata": {
        "id": "gaa5pT76W8ZR"
      }
    },
    {
      "cell_type": "code",
      "source": [
        "dictionary = gensim.corpora.Dictionary(processed_docs)\n",
        "count = 0\n",
        "for k, v in dictionary.iteritems():\n",
        "    print(k, v)\n",
        "    count += 1\n",
        "    if count > 10:\n",
        "        break\n",
        "print(len(dictionary))"
      ],
      "metadata": {
        "colab": {
          "base_uri": "https://localhost:8080/"
        },
        "id": "J8h72V8tX2dS",
        "outputId": "f0ebf502-869f-4f0f-97ce-251457d40125"
      },
      "execution_count": null,
      "outputs": [
        {
          "output_type": "stream",
          "name": "stdout",
          "text": [
            "0 book\n",
            "1 special\n",
            "2 blew\n",
            "3 interesting\n",
            "4 middle\n",
            "5 mind\n",
            "6 slow\n",
            "7 started\n",
            "8 fiction\n",
            "9 good\n",
            "10 love\n",
            "324907\n"
          ]
        }
      ]
    },
    {
      "cell_type": "code",
      "source": [
        "#del processed_docs df"
      ],
      "metadata": {
        "id": "Q-5tTN6uYdp4"
      },
      "execution_count": null,
      "outputs": []
    },
    {
      "cell_type": "code",
      "source": [
        "dictionary.filter_extremes(no_below=15, no_above=0.5, keep_n=100000)\n",
        "print (len(dictionary))"
      ],
      "metadata": {
        "id": "Jm5H46Iubat1",
        "colab": {
          "base_uri": "https://localhost:8080/"
        },
        "outputId": "0f1ccd08-0058-4fe2-b1d6-0bad24fb65f8"
      },
      "execution_count": null,
      "outputs": [
        {
          "output_type": "stream",
          "name": "stdout",
          "text": [
            "57750\n"
          ]
        }
      ]
    },
    {
      "cell_type": "code",
      "source": [
        "bow_corpus = [dictionary.doc2bow(doc) for doc in processed_docs]\n",
        "bow_corpus[4310]"
      ],
      "metadata": {
        "colab": {
          "base_uri": "https://localhost:8080/"
        },
        "id": "nM-PrKC-cFpC",
        "outputId": "47138906-4c87-4dfc-cf48-706d4868218b"
      },
      "execution_count": null,
      "outputs": [
        {
          "output_type": "execute_result",
          "data": {
            "text/plain": [
              "[(0, 2),\n",
              " (368, 1),\n",
              " (1936, 1),\n",
              " (2260, 1),\n",
              " (2308, 1),\n",
              " (3394, 1),\n",
              " (4872, 1),\n",
              " (5006, 1)]"
            ]
          },
          "metadata": {},
          "execution_count": 17
        }
      ]
    },
    {
      "cell_type": "code",
      "source": [
        "bow_corpus[13004310]"
      ],
      "metadata": {
        "colab": {
          "base_uri": "https://localhost:8080/"
        },
        "id": "o5a9uot5J4vj",
        "outputId": "ca41f2a6-11f6-4c71-aeb6-1a3864b78294"
      },
      "execution_count": null,
      "outputs": [
        {
          "output_type": "execute_result",
          "data": {
            "text/plain": [
              "[(27, 1), (46, 1), (1560, 1), (3001, 1), (4049, 1), (4589, 1), (8666, 1)]"
            ]
          },
          "metadata": {},
          "execution_count": 18
        }
      ]
    },
    {
      "cell_type": "code",
      "source": [
        "\n",
        "bow_corpus[4314]"
      ],
      "metadata": {
        "colab": {
          "base_uri": "https://localhost:8080/"
        },
        "id": "XULhKlNWck6F",
        "outputId": "e66403a8-968b-48d7-b409-bfb8b2d9cb58"
      },
      "execution_count": null,
      "outputs": [
        {
          "output_type": "execute_result",
          "data": {
            "text/plain": [
              "[(621, 1), (1532, 1), (1888, 1), (2172, 1), (2456, 1), (2458, 1), (4382, 1)]"
            ]
          },
          "metadata": {},
          "execution_count": 19
        }
      ]
    },
    {
      "cell_type": "code",
      "source": [
        "bow_doc_4310 = bow_corpus[4310]\n",
        "for i in range(len(bow_doc_4310)):\n",
        "    print(\"Word {} (\\\"{}\\\") appears {} time.\".format(bow_doc_4310[i][0],\n",
        "                                               dictionary[bow_doc_4310[i][0]],\n",
        "bow_doc_4310[i][1]))"
      ],
      "metadata": {
        "colab": {
          "base_uri": "https://localhost:8080/"
        },
        "id": "HqG7Pe7jkOG3",
        "outputId": "52eae54d-c2f1-4a44-9209-73541103b4a7"
      },
      "execution_count": null,
      "outputs": [
        {
          "output_type": "stream",
          "name": "stdout",
          "text": [
            "Word 0 (\"book\") appears 2 time.\n",
            "Word 368 (\"tension\") appears 1 time.\n",
            "Word 1936 (\"twice\") appears 1 time.\n",
            "Word 2260 (\"emotion\") appears 1 time.\n",
            "Word 2308 (\"sexual\") appears 1 time.\n",
            "Word 3394 (\"packed\") appears 1 time.\n",
            "Word 4872 (\"heartbreak\") appears 1 time.\n",
            "Word 5006 (\"size\") appears 1 time.\n"
          ]
        }
      ]
    },
    {
      "cell_type": "code",
      "source": [
        "\n",
        "lda_model = gensim.models.LdaMulticore(bow_corpus[:10000000], num_topics=10, id2word=dictionary, passes=2, workers=4)"
      ],
      "metadata": {
        "id": "Iry6T3sylNJP"
      },
      "execution_count": null,
      "outputs": []
    },
    {
      "cell_type": "code",
      "source": [
        "del df"
      ],
      "metadata": {
        "id": "b2oTI3-NBqeZ"
      },
      "execution_count": null,
      "outputs": []
    },
    {
      "cell_type": "code",
      "source": [
        "import gc\n",
        "gc.collect()"
      ],
      "metadata": {
        "colab": {
          "base_uri": "https://localhost:8080/"
        },
        "id": "Anwt769sDMAr",
        "outputId": "8ff038ea-5cea-4587-ff1b-c2d8c32c516e"
      },
      "execution_count": null,
      "outputs": [
        {
          "output_type": "execute_result",
          "data": {
            "text/plain": [
              "0"
            ]
          },
          "metadata": {},
          "execution_count": 31
        }
      ]
    },
    {
      "cell_type": "code",
      "source": [
        "for index, score in sorted(lda_model[bow_corpus[1000]], key=lambda tup: -1*tup[1]):\n",
        "    print(\"\\nScore: {}\\t \\nTopic: {}\".format(score, lda_model.print_topic(index, 20)))"
      ],
      "metadata": {
        "colab": {
          "base_uri": "https://localhost:8080/"
        },
        "id": "x0P409A6Xk5k",
        "outputId": "f3d0afd8-ba25-4d62-b2e4-c61f6efce92c"
      },
      "execution_count": null,
      "outputs": [
        {
          "output_type": "stream",
          "name": "stdout",
          "text": [
            "\n",
            "Score: 0.4450543522834778\t \n",
            "Topic: 0.039*\"want\" + 0.013*\"thing\" + 0.010*\"people\" + 0.010*\"understand\" + 0.008*\"thought\" + 0.008*\"human\" + 0.008*\"life\" + 0.008*\"okay\" + 0.008*\"world\" + 0.007*\"tell\" + 0.007*\"girl\" + 0.006*\"like\" + 0.006*\"think\" + 0.006*\"fuck\" + 0.005*\"head\" + 0.005*\"place\" + 0.005*\"said\" + 0.004*\"mind\" + 0.004*\"know\" + 0.004*\"heart\"\n",
            "\n",
            "Score: 0.35491031408309937\t \n",
            "Topic: 0.039*\"like\" + 0.017*\"read\" + 0.014*\"sure\" + 0.012*\"knew\" + 0.011*\"happens\" + 0.010*\"issue\" + 0.010*\"thing\" + 0.010*\"look\" + 0.010*\"happen\" + 0.010*\"facebook\" + 0.009*\"know\" + 0.008*\"later\" + 0.008*\"going\" + 0.007*\"weird\" + 0.007*\"work\" + 0.007*\"year\" + 0.006*\"spoiler\" + 0.006*\"finish\" + 0.005*\"crazy\" + 0.005*\"saying\"\n",
            "\n",
            "Score: 0.02501116320490837\t \n",
            "Topic: 0.128*\"book\" + 0.049*\"read\" + 0.029*\"series\" + 0.023*\"thing\" + 0.021*\"like\" + 0.015*\"love\" + 0.015*\"character\" + 0.014*\"reading\" + 0.012*\"think\" + 0.012*\"great\" + 0.011*\"favorite\" + 0.011*\"liked\" + 0.011*\"definitely\" + 0.010*\"feel\" + 0.009*\"time\" + 0.009*\"going\" + 0.009*\"good\" + 0.008*\"writing\" + 0.008*\"wait\" + 0.007*\"story\"\n",
            "\n",
            "Score: 0.02500714547932148\t \n",
            "Topic: 0.057*\"story\" + 0.023*\"book\" + 0.017*\"character\" + 0.015*\"love\" + 0.015*\"ending\" + 0.014*\"romance\" + 0.011*\"good\" + 0.010*\"novel\" + 0.009*\"beautiful\" + 0.008*\"perfect\" + 0.008*\"page\" + 0.008*\"plot\" + 0.008*\"happy\" + 0.008*\"wonderful\" + 0.008*\"enjoyed\" + 0.008*\"great\" + 0.007*\"twist\" + 0.007*\"sweet\" + 0.007*\"beginning\" + 0.006*\"little\"\n",
            "\n",
            "Score: 0.025005538016557693\t \n",
            "Topic: 0.018*\"time\" + 0.014*\"wanted\" + 0.012*\"maybe\" + 0.010*\"feeling\" + 0.010*\"read\" + 0.009*\"high\" + 0.009*\"school\" + 0.008*\"twitter\" + 0.007*\"follow\" + 0.007*\"think\" + 0.006*\"year\" + 0.006*\"power\" + 0.006*\"fight\" + 0.005*\"away\" + 0.005*\"rating\" + 0.005*\"little\" + 0.005*\"girl\" + 0.005*\"live\" + 0.005*\"world\" + 0.005*\"book\"\n",
            "\n",
            "Score: 0.025004157796502113\t \n",
            "Topic: 0.046*\"character\" + 0.027*\"book\" + 0.013*\"start\" + 0.011*\"moment\" + 0.011*\"time\" + 0.009*\"main\" + 0.009*\"started\" + 0.008*\"amazing\" + 0.007*\"point\" + 0.007*\"actually\" + 0.006*\"plot\" + 0.006*\"glad\" + 0.006*\"reading\" + 0.006*\"development\" + 0.005*\"felt\" + 0.005*\"mean\" + 0.005*\"entire\" + 0.005*\"think\" + 0.005*\"finally\" + 0.005*\"highly\"\n",
            "\n",
            "Score: 0.02500314451754093\t \n",
            "Topic: 0.059*\"star\" + 0.050*\"loved\" + 0.017*\"world\" + 0.013*\"idea\" + 0.011*\"heart\" + 0.010*\"half\" + 0.010*\"shit\" + 0.008*\"wrong\" + 0.007*\"book\" + 0.007*\"building\" + 0.007*\"absolutely\" + 0.005*\"especially\" + 0.005*\"relationship\" + 0.005*\"dark\" + 0.005*\"boring\" + 0.004*\"description\" + 0.004*\"check\" + 0.004*\"coming\" + 0.003*\"beauty\" + 0.003*\"loving\"\n",
            "\n",
            "Score: 0.025002220645546913\t \n",
            "Topic: 0.026*\"life\" + 0.022*\"know\" + 0.014*\"like\" + 0.014*\"people\" + 0.014*\"friend\" + 0.012*\"breathe\" + 0.011*\"live\" + 0.010*\"come\" + 0.010*\"family\" + 0.009*\"best\" + 0.008*\"wish\" + 0.007*\"care\" + 0.006*\"relationship\" + 0.006*\"strong\" + 0.006*\"sister\" + 0.005*\"mother\" + 0.005*\"home\" + 0.005*\"brother\" + 0.005*\"word\" + 0.005*\"choice\"\n",
            "\n",
            "Score: 0.025001516565680504\t \n",
            "Topic: 0.020*\"need\" + 0.010*\"journey\" + 0.008*\"death\" + 0.007*\"fucking\" + 0.007*\"cover\" + 0.007*\"damn\" + 0.007*\"family\" + 0.007*\"excited\" + 0.006*\"friendship\" + 0.006*\"awesome\" + 0.005*\"time\" + 0.005*\"father\" + 0.005*\"dream\" + 0.005*\"stay\" + 0.005*\"version\" + 0.004*\"source\" + 0.004*\"changed\" + 0.004*\"truth\" + 0.004*\"david\" + 0.004*\"order\"\n",
            "\n",
            "Score: 0.02500043623149395\t \n",
            "Topic: 0.070*\"love\" + 0.048*\"review\" + 0.016*\"honest\" + 0.013*\"right\" + 0.012*\"fact\" + 0.011*\"hate\" + 0.010*\"come\" + 0.009*\"visit\" + 0.008*\"true\" + 0.008*\"fall\" + 0.008*\"kinda\" + 0.007*\"needed\" + 0.006*\"exchange\" + 0.006*\"author\" + 0.006*\"blog\" + 0.006*\"thank\" + 0.005*\"hurt\" + 0.005*\"netgalley\" + 0.005*\"child\" + 0.005*\"pain\"\n"
          ]
        }
      ]
    },
    {
      "cell_type": "code",
      "source": [
        "print(type(lda_model))"
      ],
      "metadata": {
        "colab": {
          "base_uri": "https://localhost:8080/"
        },
        "id": "JPzShRydA10J",
        "outputId": "f4dac308-daee-4b73-cd31-99c533a14ccc"
      },
      "execution_count": null,
      "outputs": [
        {
          "output_type": "stream",
          "name": "stdout",
          "text": [
            "<class 'gensim.models.ldamulticore.LdaMulticore'>\n"
          ]
        }
      ]
    },
    {
      "cell_type": "code",
      "source": [
        "print(lda_model)"
      ],
      "metadata": {
        "colab": {
          "base_uri": "https://localhost:8080/"
        },
        "id": "h0PAX-pMBPIc",
        "outputId": "c2ea480d-f357-40e3-b4e6-ca02088dac32"
      },
      "execution_count": null,
      "outputs": [
        {
          "output_type": "stream",
          "name": "stdout",
          "text": [
            "LdaModel(num_terms=57750, num_topics=10, decay=0.5, chunksize=2000)\n"
          ]
        }
      ]
    },
    {
      "cell_type": "code",
      "source": [
        "from gensim import corpora, models\n",
        "tfidf = models.TfidfModel(bow_corpus)\n",
        "corpus_tfidf = tfidf[bow_corpus]\n",
        "from pprint import pprint\n",
        "for doc in corpus_tfidf:\n",
        "    pprint(doc)\n",
        "    break"
      ],
      "metadata": {
        "id": "UgDE9L0FkicW"
      },
      "execution_count": null,
      "outputs": []
    },
    {
      "cell_type": "code",
      "source": [
        "lda_model_tfidf = gensim.models.LdaMulticore(corpus_tfidf, num_topics=60, id2word=dictionary, passes=2, workers=4)\n",
        "for idx, topic in lda_model_tfidf.print_topics(-1):\n",
        "    print('Topic: {} Word: {}'.format(idx, topic))"
      ],
      "metadata": {
        "id": "6GrTEYLIw5_S"
      },
      "execution_count": null,
      "outputs": []
    },
    {
      "cell_type": "code",
      "source": [
        "unseen_document = df[0]['review_sentences\t']\n",
        "bow_vector = dictionary.doc2bow(preprocess(unseen_document))\n",
        "for index, score in sorted(lda_model[bow_vector], key=lambda tup: -1*tup[1]):\n",
        "    print(\"Score: {}\\t Topic: {}\".format(score, lda_model.print_topic(index, 5)))"
      ],
      "metadata": {
        "id": "of5v_UdUhY8R"
      },
      "execution_count": null,
      "outputs": []
    }
  ]
}